{
 "cells": [
  {
   "cell_type": "code",
   "execution_count": 2,
   "metadata": {},
   "outputs": [],
   "source": [
    "## python은 module이란걸 사용해요!\n",
    "## module : 하나의 python 파일. => 변수, 함수, class\n",
    "## python의 module은 다른 python 프로그램에서 불러와 사용할\n",
    "## 수 있는 python file을 지칭\n",
    "\n",
    "## 우리가 생성한 module을 어디에다 저장해 놔야 할까요?\n",
    "# import sys   # sys라는 module을 불러와서 사용할 꺼예요\n",
    "# sys.path.append(\"C:/python_Lib\")\n",
    "\n",
    "## 환경변수 PYTHONPATH 라는걸 만들어서 여기에  module을\n",
    "## 넣어놓으면 프로그램 어디에서나 사용할 수 있어요!\n"
   ]
  },
  {
   "cell_type": "code",
   "execution_count": 11,
   "metadata": {},
   "outputs": [
    {
     "name": "stdout",
     "output_type": "stream",
     "text": [
      "30\n"
     ]
    }
   ],
   "source": [
    "## module을 사용하는 형식은\n",
    "## import 모듈명(파일명)\n",
    "# import module1\n",
    "\n",
    "# print(module1.module_PI)\n",
    "# print(module1.mySum(10,20))\n",
    "\n",
    "## alias를 이용해서 편하게 사용해 보아요!\n",
    "# import module1 as m\n",
    "# print(m.module_PI)\n",
    "# print(m.mySum(10,20))\n",
    "\n",
    "# from 모듈이름 import 모듈함수(변수,클래스)\n",
    "# from module1 import module_PI\n",
    "# from module1 import *\n",
    "# print(module_PI)\n",
    "# print(mySum(10,20))\n",
    "\n",
    "# package : \".\" 기호를 이용해서 module을 계층적으로 관리\n",
    "# package는 물리적으로 표현할경우 => 폴더로 표현\n",
    "# A.B 라고 할때 A : package, B : module\n",
    "\n",
    "# import myPackage.module1\n",
    "# from myPackage import module1\n",
    "from myPackage.module1 import mySum\n",
    "\n",
    "print(mySum(10,20))"
   ]
  }
 ],
 "metadata": {
  "kernelspec": {
   "display_name": "[CPU_ENV]",
   "language": "python",
   "name": "cpu_env"
  },
  "language_info": {
   "codemirror_mode": {
    "name": "ipython",
    "version": 3
   },
   "file_extension": ".py",
   "mimetype": "text/x-python",
   "name": "python",
   "nbconvert_exporter": "python",
   "pygments_lexer": "ipython3",
   "version": "3.6.9"
  }
 },
 "nbformat": 4,
 "nbformat_minor": 2
}
