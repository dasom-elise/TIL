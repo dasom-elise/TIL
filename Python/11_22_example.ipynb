{
 "cells": [
  {
   "cell_type": "markdown",
   "metadata": {},
   "source": [
    "## 문제 17.\n",
    "#### 10! = 10*9 ...*1 = 3628800\n",
    "### 각 자리수의 합은 3+6+2+8+8+0+0=27\n",
    "### 100! 를 계산해서 각 자리수의 합을 구해보세요 ㅋ"
   ]
  },
  {
   "cell_type": "code",
   "execution_count": 4,
   "metadata": {},
   "outputs": [
    {
     "data": {
      "text/plain": [
       "93326215443944152681699238856266700490715968264381621468592963895217599993229915608941463976156518286253697920827223758251185210916864000000000000000000000000"
      ]
     },
     "execution_count": 4,
     "metadata": {},
     "output_type": "execute_result"
    }
   ],
   "source": [
    "def fac(x):\n",
    "    return x*fac(x-1) if x >1 else 1\n",
    "\n",
    "fac(100)"
   ]
  },
  {
   "cell_type": "code",
   "execution_count": 15,
   "metadata": {},
   "outputs": [
    {
     "data": {
      "text/plain": [
       "648"
      ]
     },
     "execution_count": 15,
     "metadata": {},
     "output_type": "execute_result"
    }
   ],
   "source": [
    "# str(fac(100)) # 문자열로 바꾼 후에\n",
    "# map함수를 써서 int로 하나하나 변환 후 list에 저장하고 sum함수로 합하기!\n",
    "sum(list(map(int,str(fac(100)))))"
   ]
  },
  {
   "cell_type": "markdown",
   "metadata": {},
   "source": [
    "## 문제18.\n",
    "### 최소 10개 최대 20개의 숫자로 구성된 숫자목록을 이용해요\n",
    "### 예)1,3,4,5,7,8,2,3,4,7\n",
    "### 숫자목록을 재배치하려고해요\n",
    "### 1. 앞에서 4개를 선택해요\n",
    "### [1,3,4,5] => 합 13\n",
    "### 첫번째 두번째 교환, 세번째 네번째 교환\n",
    "### [3,1,5,4] ...  \n",
    "### 2. 한칸 전진해서 1의 과정을 반복\n",
    "###        3[1,5,4,7],8,2,3,4,7\n",
    "###        3,[5,1,7,4],8,2,3,4,7  => 합은 17\n",
    "###        3,5,[1,7,4,8],2,3,4,7\n",
    "###        3,5,[7,1,8,4],2,3,4,7  =>합은 20\n",
    "###        3,5,7,[1,8,4,2],3,4,7  => 합은 15\n",
    "### 3. 가장 큰 합은 얼마인가요?\n",
    "### 그때의 4개의 숫자는 무엇인가요?"
   ]
  },
  {
   "cell_type": "code",
   "execution_count": 55,
   "metadata": {},
   "outputs": [],
   "source": [
    "som = list()"
   ]
  },
  {
   "cell_type": "code",
   "execution_count": 54,
   "metadata": {},
   "outputs": [
    {
     "data": {
      "text/plain": [
       "19"
      ]
     },
     "execution_count": 54,
     "metadata": {},
     "output_type": "execute_result"
    }
   ],
   "source": [
    "import numpy\n",
    "import random \n",
    "random.seed(5)\n",
    "i = numpy.random.randint(10,20)\n",
    "my = numpy.random.randint(0,9,(i,))\n",
    "df = list(my)\n",
    "sum(df[0:4])"
   ]
  },
  {
   "cell_type": "code",
   "execution_count": null,
   "metadata": {},
   "outputs": [],
   "source": [
    "while "
   ]
  }
 ],
 "metadata": {
  "kernelspec": {
   "display_name": "[CPU_ENV]",
   "language": "python",
   "name": "cpu_env"
  },
  "language_info": {
   "codemirror_mode": {
    "name": "ipython",
    "version": 3
   },
   "file_extension": ".py",
   "mimetype": "text/x-python",
   "name": "python",
   "nbconvert_exporter": "python",
   "pygments_lexer": "ipython3",
   "version": "3.6.9"
  }
 },
 "nbformat": 4,
 "nbformat_minor": 2
}
