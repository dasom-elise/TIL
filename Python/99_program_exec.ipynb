{
 "cells": [
  {
   "cell_type": "code",
   "execution_count": null,
   "metadata": {},
   "outputs": [],
   "source": [
    "### 문제 1.\n",
    "### 10보다 작은 자연수 중에서 3 또는 5의 배수는\n",
    "### 3 ,5 ,6 ,9가 존재해요! 이것들의 합은 23입니다.\n",
    "\n",
    "###1000보다 작은 자연수 중에서 3 또는 5의 배수들을\n",
    "### 구해서 모두 합하면 얼마인가요?\n",
    "\n",
    "### 정답 : 233168\n"
   ]
  },
  {
   "cell_type": "code",
   "execution_count": 2,
   "metadata": {},
   "outputs": [],
   "source": [
    "### 문제 2.\n",
    "### 피보나치 수열의 각 항은 바로 앞의 항 2개를 더한 것이 되요!\n",
    "### 1과 2로 시작하는 피보나치 수열은\n",
    "### [1, 2, 3, 5, 8, 13, 21, 34, ... 4000000, ]\n",
    "\n",
    "### 값이 짝수이면서 값이 4백만 이하인 \n",
    "### 모든 항을 구해서 더하면 얼마일까요?\n",
    "### 정답 : 4613732\n"
   ]
  },
  {
   "cell_type": "code",
   "execution_count": 4,
   "metadata": {},
   "outputs": [],
   "source": [
    "## 문제 3.\n",
    "## 알파벳 대소문자로 되어 있는 문자열이 주어져요!\n",
    "## 이 문자열에서 가장 많이 사용된 알파벳이 \n",
    "## 무엇인지 출력하는 프로그램을 작성하세요\n",
    "## 단, 대소문자 구별하지 않아요. 만약 동률이 \n",
    "## 존재하면 알파벳 순서가 제일 앞에 있는 알파벳을 출력\n",
    "## 공백은 제외할께요!!\n",
    "\n",
    "## \"This is a sample Program mississippi river\"\n",
    "## 가장많이 등장한 문자 : \"I\"\n",
    "## \"abcdabcdababccddcd\" => \"C\""
   ]
  },
  {
   "cell_type": "code",
   "execution_count": 2,
   "metadata": {},
   "outputs": [
    {
     "name": "stdout",
     "output_type": "stream",
     "text": [
      "19071850장 사야 1등에 당첨되요!\n",
      "비용 : 19,071,850,000\n",
      "Wall time: 3min 44s\n"
     ]
    }
   ],
   "source": [
    "%%time\n",
    "## 문제 4:\n",
    "## 로또 프로그램을 작성\n",
    "## 5천원으로 로또복권 5장을 자동으로 구매\n",
    "## 이번주 로또 당첨번호를 생성하여 구매한 로또가 당첨이\n",
    "## 되었는지를 확인\n",
    "## 쉬운버전부터 해 보아요! => 보너스 번호가 없어요!\n",
    "## 원래버전은 => 보너스 번호가 있어요!\n",
    "## 1등 : 6개의 번호가 맞으면\n",
    "## 2등 : 5개의 번호가 맞고 + 보너스번호가 맞으면\n",
    "## 3등 : 5개의 번호가 맞으면\n",
    "## 4등 : 4개의 번호가 맞으면\n",
    "## 5등 : 3개의 번호가 맞으면\n",
    "## 5장의 로또번호가 몇등에 당첨되었는지 출력!!\n",
    "\n",
    "## 추가문제) 1등에 당첨될려면 평균적으로 얼마만큼의 \n",
    "##           돈을 투자해야 할까요?? 로또 1게임은 1000원.\n",
    "import random\n",
    "\n",
    "# 당첨번호 만들기\n",
    "winningNumber=set()\n",
    "while len(winningNumber) < 6:\n",
    "    winningNumber.add(random.randint(1,45))\n",
    "\n",
    "nCount = 0    \n",
    "while True:    \n",
    "    myLotto=set()\n",
    "    while len(myLotto) < 6:\n",
    "        myLotto.add(random.randint(1,45))\n",
    "    if  len(winningNumber & myLotto) == 6:\n",
    "        break   # 인접한 가장 가까운 loop를 탈출\n",
    "    else:\n",
    "        nCount += 1\n",
    "        \n",
    "print(\"{}장 사야 1등에 당첨되요!\".format(nCount))\n",
    "print(\"비용 : {:,}\".format(nCount*1000))"
   ]
  },
  {
   "cell_type": "code",
   "execution_count": null,
   "metadata": {},
   "outputs": [],
   "source": [
    "## 문제 5번\n",
    "## 어떤수를 소수의 곱으로만 나타내는것을 소인수분해라고 합니다.\n",
    "## 이 소수들을 그 수의 소인수라고 합니다.\n",
    "\n",
    "## 예를 들면 13195의 소인수는 5, 7, 13, 29 입니다.\n",
    "\n",
    "## 600851475143의 소인수 중 가장 큰 수는 얼마인가요?"
   ]
  },
  {
   "cell_type": "code",
   "execution_count": 7,
   "metadata": {},
   "outputs": [
    {
     "name": "stdout",
     "output_type": "stream",
     "text": [
      "99000099\n"
     ]
    }
   ],
   "source": [
    "## 문제 6.\n",
    "## 앞에서부터 읽을때나 뒤에서부터 읽을 때 모양이 \n",
    "## 같은 수를 대칭수라고 합니다. \n",
    "\n",
    "## 두 자리 수를 곱해서 만들 수 있는 대칭수 중에\n",
    "## 가장 큰 수는 9009 (91 * 99) 입니다.\n",
    "## 세 자리 수를 곱해서 만들 수 있는 가장 큰 대칭수는 얼마?\n",
    "def check_number(x):\n",
    "    str1 = str(x)\n",
    "    tmp = list(str(x))\n",
    "    tmp.reverse()\n",
    "    if str1 == \"\".join(tmp):\n",
    "        return True\n",
    "    else:\n",
    "        return False\n",
    "\n",
    "def calcul_number(x):   # x : 1이면 2자리 수끼리 곱\n",
    "                        # x : 2이면 3자리 수끼리 곱\n",
    "    result = []\n",
    "    for i in range(10**x,10**(x+1)):\n",
    "        for j in range(10**x,10**(x+1)):\n",
    "            if check_number(i*j):\n",
    "                result.append(i*j)\n",
    "                \n",
    "    print(max(result))\n",
    "    \n",
    "calcul_number(3)\n",
    "    \n",
    "## 정답 : 906609\n",
    "## 같은 프로그램으로 네 자리 수를 곱해서 만들 수 있는 \n",
    "## 가장 큰 대칭수를 구해보자\n",
    "## => 99000099\n"
   ]
  },
  {
   "cell_type": "code",
   "execution_count": null,
   "metadata": {},
   "outputs": [],
   "source": [
    "## 문제 7.\n",
    "##\n",
    "## 1부터 10사이의 어떤 수로도 나누어떨어지는 가장 작은 수는\n",
    "## 2520입니다.\n",
    "\n",
    "## 1부터 20사이의 어떤 수로도 나누어떨어지는 가장 작은 수는\n",
    "## 얼마?   => 232792560 ( 약20분.. ) => 효율적인 방법을 찾아요!\n",
    "\n"
   ]
  },
  {
   "cell_type": "code",
   "execution_count": 6,
   "metadata": {},
   "outputs": [
    {
     "name": "stdout",
     "output_type": "stream",
     "text": [
      "학생의 이름은 : 홍길동, 평균은 : 14.67\n",
      "학생의 이름은 : 최길동, 평균은 : 47.67\n",
      "학생의 이름은 : 아이유, 평균은 : 95.00\n",
      "학생의 이름은 : 김연아, 평균은 : 19.67\n",
      "학생의 이름은 : 이선희, 평균은 : 38.33\n",
      "학생의 이름은 : 강감찬, 평균은 : 60.00\n",
      "학생의 이름은 : 신사임당, 평균은 : 23.33\n",
      "\n",
      "학생의 이름은 : 홍길동, 평균은 : 14.67\n",
      "학생의 이름은 : 김연아, 평균은 : 19.67\n",
      "학생의 이름은 : 신사임당, 평균은 : 23.33\n",
      "학생의 이름은 : 이선희, 평균은 : 38.33\n",
      "학생의 이름은 : 최길동, 평균은 : 47.67\n",
      "학생의 이름은 : 강감찬, 평균은 : 60.00\n",
      "학생의 이름은 : 아이유, 평균은 : 95.00\n"
     ]
    }
   ],
   "source": [
    "## 문제 8.\n",
    "##\n",
    "## student_score.txt의 내용을 읽어서\n",
    "## 학생 성적에 대한 개인 평균을 구하고\n",
    "## 성적순으로 출력하세요!\n",
    "## 출력형식 : 이름,성적평균,등수\n",
    "## 작성해 보아요!!\n",
    "## 학생1명의 정보 => dict로 표현해볼까??\n",
    "## { \"name\" : \"홍길동\", \"kor\" : 10, \"eng\" : 30, \"math\" : 50 }\n",
    "## 이렇게 만든 학생 dict를 list안에 순차적으로 저장\n",
    "## [\n",
    "##   {\"name\":\"홍길동\", \"kor\":10, \"eng\":30, \"math\":50 },\n",
    "##   {\"name\":\"김길동\", \"kor\":20, \"eng\":70, \"math\":10 },\n",
    "##   {\"name\":\"김연아\", \"kor\":30, \"eng\":90, \"math\":20 },\n",
    "##                           ...\n",
    "## ]\n",
    "\n",
    "import student_score as ss\n",
    "import operator   # 정렬을 편하게 하기 위해서\n",
    "\n",
    "result = list()   # 학생객체들이 모여있는 리스트\n",
    "\n",
    "studentFile = open(\"student_score.txt\",\"r\")\n",
    "\n",
    "while True:\n",
    "    stu = (studentFile.readline()).replace(\"\\n\",\"\")\n",
    "    if stu == \"\":\n",
    "        break;\n",
    "    stu_list = stu.split(\",\")  # \",\"를 기준으로 문자열을 분리\n",
    "                               # 리스트로 리턴해줘요\n",
    "                               # [\"홍길동\",\"18\",\"7\",\"19\"]\n",
    "    #print(stu_list)        \n",
    "    result.append(ss.Student(stu_list[0],stu_list[1],stu_list[2],stu_list[3]))        \n",
    "\n",
    "## 정상적으로 데이터가 생성되었는지 확인\n",
    "for s in result:\n",
    "    s.print_student()\n",
    "    \n",
    "## 정렬을 해 보아요!!  attrgetter : property의 값을 추출                   \n",
    "sorted_result = sorted(result,key=operator.attrgetter(\"sAvg\"))\n",
    "\n",
    "# 정렬된 결과를 확인해 보아요!\n",
    "print()\n",
    "for s in sorted_result:\n",
    "    s.print_student()"
   ]
  },
  {
   "cell_type": "code",
   "execution_count": null,
   "metadata": {},
   "outputs": [],
   "source": [
    "## 문제 9.\n",
    "## 1부터 10까지 자연수를 각각 제곱해서 더하면 \n",
    "## 1**2 + 2**2 + 3**2 + 4**2 + ... = 385\n",
    "## 1부터 10까지 모두 더한다음 그 결과를 제곱하면\n",
    "## (1 + 2 + 3 + 4 + ... ) ** 2 = 3025\n",
    "## 그 차이를 구해보아요 => 3025 - 385 => 2640\n",
    "\n",
    "## 1~100까지 위의 과정을 거치면 결과가 얼마일까요?\n",
    "## 25164150"
   ]
  },
  {
   "cell_type": "code",
   "execution_count": null,
   "metadata": {},
   "outputs": [],
   "source": [
    "## 문제 10.\n",
    "## 소수를 크기순으로 나열하면, 2,3,5,7,11,13,17,...\n",
    "## 이때, 10,001번째 소수는 얼마일까요?\n",
    "## ===> 104743\n"
   ]
  },
  {
   "cell_type": "code",
   "execution_count": null,
   "metadata": {},
   "outputs": [],
   "source": [
    "## 문제 11.\n",
    "## 세개의 자연수 a,b,c \n",
    "## a**2 + b**2 = c**2   ( 3, 4, 5 )\n",
    "## 이런 특징을 가지는 수에 대해서\n",
    "## a < b < c\n",
    "\n",
    "## a + b + c = 1000인 피타고라스 수는 1개만 존재\n",
    "## 이때 a * b * c ?\n",
    "## 200, 375, 425\n",
    "\n"
   ]
  },
  {
   "cell_type": "code",
   "execution_count": 1,
   "metadata": {},
   "outputs": [],
   "source": [
    "## 문제 12.\n",
    "## 양의 정수 n에 대해서, 다음과 같은 계산 과정을 반복합니다.\n",
    "\n",
    "## n이 짝수일경우 => n -> n / 2\n",
    "## n이 홀수일경우 => n -> 3 * n + 1\n",
    "\n",
    "## 13이라는 정수 n에 대해서 위의 규칙을 적용해보면\n",
    "## 13 -> 40 -> 20 -> 10 -> 5 -> 16 -> 8 -> 4 -> 2 -> 1\n",
    "## 어떤 수로 시작해도 결국은 1로 끝나게 되요!!\n",
    "\n",
    "## 1,000,000(백만) 이하의 수로 시작했을 때 1까지 도달하는데\n",
    "## 가장 긴 과정을 거치는 수는 얼마인가요?\n",
    "## 837799 - 총 525번\n"
   ]
  },
  {
   "cell_type": "code",
   "execution_count": 3,
   "metadata": {},
   "outputs": [
    {
     "name": "stdout",
     "output_type": "stream",
     "text": [
      "1980\n"
     ]
    }
   ],
   "source": [
    "## 문제 13.\n",
    "## 다음과 같은 특성을 가지는 숫자의 개수를 구하는 프로그램을\n",
    "## 작성해 보아요!\n",
    "## 두개의 숫자(x,y)를 이용합니다. 양의 정수 1과 1000\n",
    "## x 초과 그리고 y미만인 숫자 중 각 자리의 숫자를\n",
    "## 모두 더한값이 5의 배수가 되는 숫자를 구하고 해당 숫자가\n",
    "## 몇 개인지 출력하세요!\n",
    "## 1초과 100 미만 => 19개\n",
    "## 5초과 500 미만 => 98개\n",
    "## 입력으로 100초과 10000미만 이 주어졌을 때 몇개 인가요?\n",
    "## ==> 1980개\n",
    "\n",
    "def exercise13(x,y):\n",
    "    nCount = 0   # 조건에 맞는 수를 발견할 때마다 1씩 증가    \n",
    "    for i in range(x+1,y):\n",
    "        # i값에는 숫자가 한개씩 들어와요!\n",
    "        k = str(i)   # 숫자를 문자열로 변환 예) i => 414\n",
    "                     #                          k = \"414\"\n",
    "        intSum = 0\n",
    "        for j in range(len(k)):\n",
    "            intSum += int(k[j])\n",
    "        if intSum % 5 == 0:\n",
    "            nCount += 1                \n",
    "    return nCount\n",
    "\n",
    "print(exercise13(100,10000))"
   ]
  },
  {
   "cell_type": "code",
   "execution_count": null,
   "metadata": {},
   "outputs": [],
   "source": [
    "## 문제 14.\n",
    "## 6자리 이상 9자리 미만의 수를 하나 이용해요\n",
    "## 예) 234567    6522345\n",
    "\n",
    "## 수의 중앙을 기준으로 두 개의 수로 분리\n",
    "## 234567 => (234, 567)    6522345 => (652, 345) \n",
    "## 두 개의 수로 분리한 다음 큰 수를 선택\n",
    "## 이 작업을 계속 진행 더이상 나눌 수 없을때까지 진행\n",
    "## 예) 6522345 => (652, 345) => 652 => (6, 2) => 6\n",
    "## 최종적으로 남은 수는 얼마?\n"
   ]
  },
  {
   "cell_type": "code",
   "execution_count": 16,
   "metadata": {},
   "outputs": [
    {
     "name": "stdout",
     "output_type": "stream",
     "text": [
      "1366\n"
     ]
    }
   ],
   "source": [
    "## 문제 15.\n",
    "## 2 ** 15 = 32768  각 자리수의 합은 => 3 + 2 + 7 + 6 +8 => 26\n",
    "## 2 ** 1000 = ? 각 자리수의 합은?\n",
    "import numpy as np\n",
    "\n",
    "data = str(2**1000)\n",
    "result = np.array([int(data[x]) for x in range(len(data))])\n",
    "print(result.sum())"
   ]
  },
  {
   "cell_type": "code",
   "execution_count": null,
   "metadata": {},
   "outputs": [],
   "source": [
    "## 문제 16.(공장에서 부품을 생산해요!!)\n",
    "## 각 부품의 생산정보가 문자열로 제공되요!\n",
    "## 예)부품생산정보 : \n",
    "## 문자는 부품 이름(A,B,C 중 1개)\n",
    "## 숫자는 부품의 품질(1부터 9까지) 숫자가 높을 수록 품질이 우수\n",
    "\n",
    "## 생산정보에서 품질이 7이상인 부품만 추출(7미만은 불량품)\n",
    "## 결과) A7A9B9C7A8B8C9\n",
    "## 만들어진 결과를 이용해서 부품을 조립\n",
    "## ABC가 연속적으로 있으면 제품으로 조립\n",
    "## 주어진 문자열을 이용해서 총 몇개의 제품을 조립할 수 있나요?\n",
    "## x개!~!\n",
    "## 부품정보 : A7B5C4A1A8B9B3A5A8B9B1C7C1A1B3C7B9B3A7B8A1C9A8C9C7B9C3A5A8B3C9C8A7A8B9C9C7\n",
    "\n"
   ]
  }
 ],
 "metadata": {
  "kernelspec": {
   "display_name": "[CPU_ENV]",
   "language": "python",
   "name": "cpu_env"
  },
  "language_info": {
   "codemirror_mode": {
    "name": "ipython",
    "version": 3
   },
   "file_extension": ".py",
   "mimetype": "text/x-python",
   "name": "python",
   "nbconvert_exporter": "python",
   "pygments_lexer": "ipython3",
   "version": "3.6.9"
  }
 },
 "nbformat": 4,
 "nbformat_minor": 2
}
