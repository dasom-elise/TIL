{
 "cells": [
  {
   "cell_type": "code",
   "execution_count": 12,
   "metadata": {},
   "outputs": [
    {
     "name": "stdout",
     "output_type": "stream",
     "text": [
      "학생이름은 : 홍길동\n",
      "한국\n",
      "학생이름은 : 김연아\n",
      "한국\n"
     ]
    }
   ],
   "source": [
    "## 객체지향 프로그래밍(Object Oriented Programming)\n",
    "\n",
    "## 함수기반의 프로그래밍(절차적 프로그래밍)을 하면 좋아요!\n",
    "## 1970년부터 시작해서 지금까지 이 방식으로\n",
    "## 프로그래밍을 하고 있어요!\n",
    "## 장점 : 프로그래밍이 쉬워요! => 빨리 만들수 있어요!\n",
    "##        => 비용이 적게들어요!\n",
    "## 단점 : 처음에는 단점이 별로 없어보였어요!\n",
    "## 1990년 들어오면서 세상이 변하기 시작했어요! => 인터넷\n",
    "## 정보량이 많아지기 시작 => 세상이 급변하기 시작\n",
    "## 프로그램의 유지보수 요구가 많아지기 시작\n",
    "## 절차적 프로그램으로 프로그램을 작성해서 이런 문제가 발생\n",
    "## 어떤 방식으로 프로그램을 만들면 유지보수측면에서 이점이 \n",
    "## 있을까??\n",
    "## 객체지향 paradigm이 시작\n",
    "## 객체지향이 어떤 프로그래밍 방식인지를 인지\n",
    "## 현실세계에 잘 부합하는(변화에 잘 적응하는) 프로그램을\n",
    "## 만들기 위해 해결해야 하는 문제를(현실세계의 문제)\n",
    "## 프로그램을 똑같이 모델링하면 되는거아냐??\n",
    "## 은행프로그램을 만들려고 해요!\n",
    "## 은행프로그램을 구성하는 구성요소를 파악\n",
    "## 텔러, 고객, 은행계좌, 지점, 테이블, ...\n",
    "## 분석하는 사람마다 달라요!\n",
    "## 구성요소간의 행위들을 정의하는 프로그래밍 방식\n",
    "## 은행계좌(객체)를 예로 프로그램으로 표현(객체 모델링)\n",
    "## 객체들은 크게 2가지로 파악할 수 있어요!\n",
    "## 상태와 행위로 파악\n",
    "## 상태는 값으로 표현되는것. 행위는 동작으로 표현되는것\n",
    "## 잔액,예금주, 계좌번호, .....\n",
    "## 행위 -> 출금, 입금, 조회   => abstraction(추상화)\n",
    "##\n",
    "## class => 객체 모델링의 수단, 추상 데이터 타입\n",
    "## 클래스의 이름은 대문자로 시작(관용적)\n",
    "\n",
    "class Student:\n",
    "    # peroperties\n",
    "    s_nation = \"\"  # class variable\n",
    "    # 생성자(constructor)\n",
    "    def __init__(self,n):  \n",
    "        self.s_name = n    # instance variable(객체가 독립적으로 가지고 있는 변수)\n",
    "        self.s_num = \"\"     # instance variable\n",
    "        self.s_major = []\n",
    "\n",
    "    # method\n",
    "    def display(self):\n",
    "        print(\"학생이름은 : {}\".format(self.s_name))\n",
    "        \n",
    "students = list()\n",
    "students[0] = Student(\"홍길동\")   # 객체  \n",
    "\n",
    "k = Student(\"김연아\")   # 객체\n",
    "k.display()\n",
    "print(k.s_nation)\n"
   ]
  },
  {
   "cell_type": "code",
   "execution_count": null,
   "metadata": {},
   "outputs": [],
   "source": [
    "\n"
   ]
  }
 ],
 "metadata": {
  "kernelspec": {
   "display_name": "[CPU_ENV]",
   "language": "python",
   "name": "cpu_env"
  },
  "language_info": {
   "codemirror_mode": {
    "name": "ipython",
    "version": 3
   },
   "file_extension": ".py",
   "mimetype": "text/x-python",
   "name": "python",
   "nbconvert_exporter": "python",
   "pygments_lexer": "ipython3",
   "version": "3.6.9"
  }
 },
 "nbformat": 4,
 "nbformat_minor": 2
}
