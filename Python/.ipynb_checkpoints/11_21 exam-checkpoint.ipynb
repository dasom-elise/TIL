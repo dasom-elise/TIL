{
 "cells": [
  {
   "cell_type": "markdown",
   "metadata": {},
   "source": [
    "## 문제 16\n",
    "\n",
    "#### 공장에서 부품을 생산해요 \n",
    "#### 각 부품의 생산정보가 문자열로 제공되요 \n",
    "### EX) 부품 생산정보 : A7B3A9C6B6A3B9C7A3A8B8C1C9...... \n",
    "### 문자열은 부품이름( A, B, C) 숫자는 품질 1-9까지 높을수록 품질이 우수\n",
    "\n",
    "품질이 7미만은 불량품 A, B, C가 연속해서 있으면 제품으로 조립\n",
    "\n",
    "총 몇개를 만들 수 있나요? ABC가 연달아 있는경우만 추출\n",
    "\n",
    "사용할 문자열 >> A7B5C4A1A8B9B3A5A8B9B1C7C1A1B3C7B9B3A7B8A1C9A8C9C7B9C3A5A8B3C9C8A7A8B9C9C7\n"
   ]
  },
  {
   "cell_type": "code",
   "execution_count": 8,
   "metadata": {
    "scrolled": true
   },
   "outputs": [
    {
     "name": "stdout",
     "output_type": "stream",
     "text": [
      "['A7', 'A8', 'B9', 'A8', 'B9', 'C7', 'C7', 'B9', 'A7', 'B8', 'C9', 'A8', 'C9', 'C7', 'B9', 'A8', 'C9', 'C8', 'A7', 'A8', 'B9', 'C9', 'C7']\n",
      "A7A8B9A8B9C7C7B9A7B8C9A8C9C7B9A8C9C8A7A8B9C9C7\n",
      "['A8B9C7', 'A7B8C9', 'A8B9C9']\n"
     ]
    }
   ],
   "source": [
    "import re   # 정규식을 이용하기 위한 모듈을 포함\n",
    "itemSequence = \"A7B5C4A1A8B9B3A5A8B9B1C7C1A1B3C7B9B3A7B8A1C9A8C9C7B9C3A5A8B3C9C8A7A8B9C9C7\"\n",
    "regex = re.compile(\".[789]\")\n",
    "result = regex.findall(itemSequence) #list\n",
    "print(result)\n",
    "\n",
    "valid_str = \"\".join(result)\n",
    "print(valid_str) # A7A8B9A8B9C7C7B9A7B8C9A8C9C7B9A8C9C8A7A8B9C9C7\n",
    "\n",
    "regex =  re.compile(\"A.B.C.\")\n",
    "result = regex.findall(valid_str)\n",
    "\n",
    "print(result)         # ['A8B9C7', 'A7B8C9', 'A8B9C9']"
   ]
  },
  {
   "cell_type": "code",
   "execution_count": 1,
   "metadata": {},
   "outputs": [
    {
     "name": "stdout",
     "output_type": "stream",
     "text": [
      "[0, 6, 8, 2, 4, 4, 3, 6, 6, 3, 8, 0, 1]\n",
      "mySum : [16]\n",
      "[6, 8, 2, 4]\n",
      "[4, 3, 6, 6, 3, 8, 0, 1]\n",
      "[8, 6, 4, 2, 4, 3, 6, 6, 3, 8, 0, 1]\n",
      "mySum : [16, 20]\n",
      "[8, 2, 4, 4]\n",
      "[3, 6, 6, 3, 8, 0, 1]\n",
      "[2, 8, 4, 4, 3, 6, 6, 3, 8, 0, 1]\n",
      "mySum : [16, 20, 18]\n",
      "[2, 4, 4, 3]\n",
      "[6, 6, 3, 8, 0, 1]\n",
      "[4, 2, 3, 4, 6, 6, 3, 8, 0, 1]\n",
      "mySum : [16, 20, 18, 13]\n",
      "[4, 4, 3, 6]\n",
      "[6, 3, 8, 0, 1]\n",
      "[4, 4, 6, 3, 6, 3, 8, 0, 1]\n",
      "mySum : [16, 20, 18, 13, 17]\n",
      "[4, 3, 6, 6]\n",
      "[3, 8, 0, 1]\n",
      "[3, 4, 6, 6, 3, 8, 0, 1]\n",
      "mySum : [16, 20, 18, 13, 17, 19]\n",
      "[3, 6, 6, 3]\n",
      "[8, 0, 1]\n",
      "[6, 3, 3, 6, 8, 0, 1]\n",
      "mySum : [16, 20, 18, 13, 17, 19, 18]\n",
      "[6, 6, 3, 8]\n",
      "[0, 1]\n",
      "[6, 6, 8, 3, 0, 1]\n",
      "mySum : [16, 20, 18, 13, 17, 19, 18, 23]\n",
      "[6, 3, 8, 0]\n",
      "[1]\n",
      "[3, 6, 0, 8, 1]\n",
      "mySum : [16, 20, 18, 13, 17, 19, 18, 23, 17]\n",
      "[3, 8, 0, 1]\n",
      "[]\n",
      "[8, 3, 1, 0]\n",
      "mySum : [16, 20, 18, 13, 17, 19, 18, 23, 17, 12]\n",
      "[8, 0, 1]\n",
      "[]\n",
      "[0, 8, 1]\n",
      "max number : 23\n",
      "time : 0.11193180084228516\n"
     ]
    }
   ],
   "source": [
    "import time\n",
    "start = time.time()\n",
    "\n",
    "import numpy as np\n",
    "import random as pd\n",
    "# np.random.seed(5)\n",
    "num = np.random.randint(10,20)\n",
    "myList = list(np.random.randint(0,9,(num,)))\n",
    "mySum = list()\n",
    "print(myList)\n",
    "\n",
    "for i in range(len(myList)):\n",
    "    myList0 = list()\n",
    "    \n",
    "    if len(myList) == 3:\n",
    "        break;\n",
    "    else:\n",
    "        mySum.append(sum(myList[:4]))\n",
    "        print('mySum :', format(mySum))\n",
    "\n",
    "        del myList[0]\n",
    "\n",
    "        myList1 = myList[:4]\n",
    "\n",
    "        myList1_1 = myList[:2]\n",
    "        myList1_1.reverse()\n",
    "        \n",
    "\n",
    "        myList1_2 = myList[2:4]\n",
    "        myList1_2.reverse()\n",
    "\n",
    "        myList2 = myList[4:]\n",
    "\n",
    "        myList0.extend(myList1_1)\n",
    "        myList0.extend(myList1_2)\n",
    "        myList0.extend(myList2)\n",
    "\n",
    "        print(myList1)\n",
    "        print(myList2)\n",
    "        print(myList0)\n",
    "\n",
    "\n",
    "print('max number :',max(mySum))\n",
    "\n",
    "print('time :', time.time() - start)"
   ]
  },
  {
   "cell_type": "code",
   "execution_count": null,
   "metadata": {},
   "outputs": [],
   "source": []
  }
 ],
 "metadata": {
  "kernelspec": {
   "display_name": "[CPU_ENV]",
   "language": "python",
   "name": "cpu_env"
  },
  "language_info": {
   "codemirror_mode": {
    "name": "ipython",
    "version": 3
   },
   "file_extension": ".py",
   "mimetype": "text/x-python",
   "name": "python",
   "nbconvert_exporter": "python",
   "pygments_lexer": "ipython3",
   "version": "3.6.9"
  }
 },
 "nbformat": 4,
 "nbformat_minor": 2
}
