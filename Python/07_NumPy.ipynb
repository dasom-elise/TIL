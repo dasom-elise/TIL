{
 "cells": [
  {
   "cell_type": "code",
   "execution_count": 1,
   "metadata": {},
   "outputs": [],
   "source": [
    "## numpy module은 ndarray(n-dimensional array)라고 불리는 자료구조를 이용 -> R의 벡터와 유사\n",
    "## R의 vector 자료구조는 같은 데이터 타입을 저장하는 자료구조\n",
    "## ndarray도 같은 데이터 타입만 저장이 가능\n",
    "import numpy as np"
   ]
  },
  {
   "cell_type": "code",
   "execution_count": 11,
   "metadata": {},
   "outputs": [
    {
     "name": "stdout",
     "output_type": "stream",
     "text": [
      "list=>[1, 2, 3, 4], type => <class 'list'>\n",
      "list[0] =>1, type => <class 'int'>\n"
     ]
    }
   ],
   "source": [
    "# ndarray를 생성하고 data type을 살펴보아요!\n",
    "## python list\n",
    "a = [1,2,3,4]\n",
    "print(\"list=>{}, type => {}\".format(a,type(a)))\n",
    "print(\"list[0] =>{}, type => {}\".format(a[0],type(a[0])))"
   ]
  },
  {
   "cell_type": "code",
   "execution_count": 17,
   "metadata": {},
   "outputs": [
    {
     "name": "stdout",
     "output_type": "stream",
     "text": [
      "ndarray => [1 2 3 4]\n",
      "ndarray => <class 'numpy.ndarray'>\n",
      "ndarray dtype=> int32\n",
      "18446744073709551616\n"
     ]
    }
   ],
   "source": [
    "## Numpy ndarray\n",
    "\n",
    "b = np.array([1,2,3,4])\n",
    "print(\"ndarray => {}\".format(b))\n",
    "print(\"ndarray => {}\".format(type(b)))\n",
    "print(\"ndarray dtype=> {}\".format(b.dtype))\n",
    "# int32 -> 정수형이고 32bit로 구성되어 있어요\n",
    "# 2진수로 32개의 비트로 표현할 수 있는 최대 수\n",
    "# 2진수 1개로 표현할 수 있는 수는 2 => 2 **1\n",
    "# 2진수 2개로 : 2 ** 2\n",
    "# 2진수 3개로 표현할 수 있는 수는: 2**3\n",
    "# 2진수 4개로 표현할 수 있는 수는: 2**4\n",
    "# 2 진수 5개로 표현할 수 있는 수는: 2**5 = 32\n",
    "# int64를 이용하면 더 큰 수를 표현 할 수 있다\n",
    "print(2**64)"
   ]
  },
  {
   "cell_type": "code",
   "execution_count": 18,
   "metadata": {},
   "outputs": [],
   "source": [
    "## ndarray를 만드는 가장 간단한 방법 => numpy가 제공하는 array()함수 이용\n",
    "c = np.array([100,\"Hello\",3.14]) # 문자열로 전부 바뀌게 됨"
   ]
  },
  {
   "cell_type": "code",
   "execution_count": 22,
   "metadata": {},
   "outputs": [
    {
     "name": "stdout",
     "output_type": "stream",
     "text": [
      "['100' 'Hello' '3.14']\n",
      "<U11\n",
      "<class 'numpy.str_'>\n"
     ]
    }
   ],
   "source": [
    "print(c) # 모두 같은 데이터 타입이 되어야하기 때문에 상위 데이터 타입으로\n",
    "print(c.dtype) # <U11 #문자열 # 유니코드\n",
    "print(type(c[0]))"
   ]
  },
  {
   "cell_type": "code",
   "execution_count": 36,
   "metadata": {},
   "outputs": [
    {
     "name": "stdout",
     "output_type": "stream",
     "text": [
      "[[1 2 3]\n",
      " [4 5 6]]\n",
      "6\n",
      "int32\n"
     ]
    }
   ],
   "source": [
    "# 다차원 numpy array를 만들어 보세요\n",
    "myList = [[1,2,3],(4,5,6)]\n",
    "arr = np.array(myList)\n",
    "print(arr)\n",
    "# 2차원의 ndarray, 1행 2열의 값은 얼마인가요?\n",
    "print(arr[1,2]) # 행,열을 콤마 끼워 단위로 구분      #arr[1][2]는 리스트형태, 쓰지않는게 좋음\n",
    "# 인덱스의 시작은 0부터\n",
    "# n차원의 ndarray가 어떻게 표현되는지 확인해야 해요!\n",
    "print(arr.dtype)"
   ]
  },
  {
   "cell_type": "code",
   "execution_count": 32,
   "metadata": {},
   "outputs": [
    {
     "name": "stdout",
     "output_type": "stream",
     "text": [
      "int64\n"
     ]
    }
   ],
   "source": [
    "# 데이터 타입을 지정하려면\n",
    "arr = np.array(myList, dtype=\"int64\")     # 그다지 좋지 않아요!\n",
    "print(arr.dtype)"
   ]
  },
  {
   "cell_type": "code",
   "execution_count": 37,
   "metadata": {},
   "outputs": [
    {
     "name": "stdout",
     "output_type": "stream",
     "text": [
      "float64\n",
      "[[1. 2. 3.]\n",
      " [4. 5. 6.]]\n"
     ]
    }
   ],
   "source": [
    "arr = np.array(myList, dtype=np.float64)     # 이렇게 사용해요\n",
    "print(arr.dtype)\n",
    "print(arr)"
   ]
  },
  {
   "cell_type": "code",
   "execution_count": 45,
   "metadata": {},
   "outputs": [
    {
     "name": "stdout",
     "output_type": "stream",
     "text": [
      "2\n",
      "(4, 2)\n"
     ]
    }
   ],
   "source": [
    "## 차원의 개수와 크기 및 축(axis)\n",
    "bf = [[1,2,3],[4,5,6]]\n",
    "myList = [[1,2],[3,4],[5,6],[7,8]]\n",
    "arr = np.array(myList)    # python list를 이용해서 numpy array를 생성\n",
    "## numpy array를 생성하면 차원의 개수를 알 수 있어요!\n",
    "print(arr.ndim) # 2\n",
    "print(arr.shape) # 차원의 개수를 알려주는 속성 # 2행3열"
   ]
  },
  {
   "cell_type": "code",
   "execution_count": 51,
   "metadata": {},
   "outputs": [
    {
     "name": "stdout",
     "output_type": "stream",
     "text": [
      "3\n",
      "(2, 2, 2)\n",
      "[[[1 2]\n",
      "  [3 4]]\n",
      "\n",
      " [[5 6]\n",
      "  [7 8]]]\n"
     ]
    }
   ],
   "source": [
    "myList = [[[1,2],[3,4]],[[5,6],[7,8]]]\n",
    "arr = np.array(myList)\n",
    "print(arr.ndim)\n",
    "print(arr.shape)\n",
    "print(arr)\n",
    "#1차원: 열\n",
    "#2차원: 행, 열\n",
    "#3차원: 면, 행, 열"
   ]
  },
  {
   "cell_type": "code",
   "execution_count": 65,
   "metadata": {},
   "outputs": [
    {
     "name": "stdout",
     "output_type": "stream",
     "text": [
      "[ 1  2  3  4  5  6  7  8  9 10 11 12]\n",
      "ndarray의 차원의 수는: 1\n",
      "ndarray의 shape: (12,)\n",
      "ndarray의 요소개수: 12\n",
      "ndarray의 len(): 12\n"
     ]
    }
   ],
   "source": [
    "## numpy array 차원 제어\n",
    "# myList = [[1,2,3,4],[5,6,7,8]]\n",
    "# myList = [[1,2],[3,4],[5,6],[7,8],[[9,10],[11,12]]]\n",
    "# myList = [[[1,2],[3,4]],[[5,6],[7,8]]]\n",
    "myList = [1,2,3,4,5,6,7,8,9,10,11,12]\n",
    "arr = np.array(myList) # numpy array 생성(ndarray)\n",
    "print(arr)\n",
    "# 차원의 수를 알아보아요!\n",
    "print(\"ndarray의 차원의 수는: {}\".format(arr.ndim))\n",
    "# 차원의 수와 각 차원의 원소 개수\n",
    "print(\"ndarray의 shape: {}\".format(arr.shape))\n",
    "# ndarray의 차원에 상관없이 모든 요소의 개수\n",
    "print(\"ndarray의 요소개수: {}\".format(arr.size))\n",
    "# python의 len()함수는 ndarray에 대해 적용하면\n",
    "# 1차원의 요소 개수를 리턴\n",
    "print(\"ndarray의 len(): {}\".format(len(arr)))"
   ]
  },
  {
   "cell_type": "code",
   "execution_count": 72,
   "metadata": {},
   "outputs": [
    {
     "name": "stdout",
     "output_type": "stream",
     "text": [
      "[[[[ 1  2  3]\n",
      "   [ 4  5  6]]]\n",
      "\n",
      "\n",
      " [[[ 7  8  9]\n",
      "   [10 11 12]]]]\n",
      "ndarray의 차원의 수는: 4\n",
      "ndarray의 shape: (2, 1, 2, 3)\n",
      "ndarray의 요소개수: 12\n",
      "ndarray의 len(): 2\n"
     ]
    }
   ],
   "source": [
    "myList = [1,2,3,4,5,6,7,8,9,10,11,12]\n",
    "arr = np.array(myList) # numpy array 생성(ndarray)\n",
    "\n",
    "## shape를 변경! # tuple은 ()를 생략 가능!\n",
    "#arr.shape = (3,4) # 2차원\n",
    "#arr.shape =  (3,2,2) # 3차원\n",
    "arr.shape = 2,1,2,3 # 4차원\n",
    "\n",
    "print(arr)\n",
    "# 차원의 수를 알아보아요!\n",
    "print(\"ndarray의 차원의 수는: {}\".format(arr.ndim))\n",
    "# 차원의 수와 각 차원의 원소 개수\n",
    "print(\"ndarray의 shape: {}\".format(arr.shape))\n",
    "# ndarray의 차원에 상관없이 모든 요소의 개수\n",
    "print(\"ndarray의 요소개수: {}\".format(arr.size))\n",
    "# python의 len()함수는 ndarray에 대해 적용하면\n",
    "# 1차원의 요소 개수를 리턴\n",
    "print(\"ndarray의 len(): {}\".format(len(arr)))\n",
    "\n",
    "\n",
    "\n",
    "# shape을 변경할 수 있는데\n",
    "# arr.shape를 직접바꾸는 방식은 잘 사용되지 않아요\n",
    "# 다른방식이 있어요 reshape()함수를 이용해요\n",
    "\n",
    "\n",
    "\n",
    "\n"
   ]
  },
  {
   "cell_type": "code",
   "execution_count": 79,
   "metadata": {},
   "outputs": [
    {
     "name": "stdout",
     "output_type": "stream",
     "text": [
      "dype: float64\n",
      "[ 1.1   3.14  2.   44.    3.99  0.5 ]\n",
      "dype: int32\n",
      "[ 1  3  2 44  3  0]\n"
     ]
    }
   ],
   "source": [
    "## numpy array의 type 변경\n",
    "arr = np.array([1.1,3.14,2,44.0,3.99,0.5])\n",
    "print(\"dype: {}\".format(arr.dtype))\n",
    "print(arr) # 실수형으로 변경됨!\n",
    "\n",
    "# ndarray의 데이터 타입을 다른 형식으로 변경할 수 이써요!\n",
    "int_arr = arr.astype(np.int32)\n",
    "print(\"dype: {}\".format(int_arr.dtype))\n",
    "print(int_arr)       # 실수->정수 변환 때 무조건 소수점은 잘라냄"
   ]
  },
  {
   "cell_type": "code",
   "execution_count": 87,
   "metadata": {},
   "outputs": [
    {
     "name": "stdout",
     "output_type": "stream",
     "text": [
      "[[0. 0. 0. 0.]\n",
      " [0. 0. 0. 0.]\n",
      " [0. 0. 0. 0.]]\n",
      "[[1 1 1 1]\n",
      " [1 1 1 1]]\n",
      "[[9. 9. 9. 9.]\n",
      " [9. 9. 9. 9.]\n",
      " [9. 9. 9. 9.]]\n"
     ]
    }
   ],
   "source": [
    "## numpy array를 생성하는 ㄴ다양한 방법\n",
    "arr = np.array([1,2,3,4]) # 리스트를 이용해서 ndarray를 생성\n",
    "# 모든 원소의 값이 0인 ndarray를 원하는 shape로 생성\n",
    "arr = np.zeros((3,4)) # (3,4) shape형태로 원소의 값이 0인 ndarray를 생성\n",
    "print(arr)\n",
    "\n",
    "# 모든 원소의 값이 1인 ndarray를 원하는 shape로 생성\n",
    "arr = np.ones((2,4),dtype = np.int32) # 튶플 제공\n",
    "print(arr)\n",
    "\n",
    "# numpy array의 공간만 확보할 수 있어요!\n",
    "# 초기화를 하지 않아요\n",
    "### arr = np.empty((5,7))\n",
    "### print(arr)\n",
    "# ones나ㅑ zeros는 초기화 작업이 추가로 진행\n",
    "# array의 크기가 커지면 속도 저하\n",
    "\n",
    "arr = np.full((3,4),9.0)    \n",
    "print(arr)    # 내가 정해준 숫자, 임의의 값으로 초기화를 진행"
   ]
  },
  {
   "cell_type": "code",
   "execution_count": 90,
   "metadata": {},
   "outputs": [
    {
     "name": "stdout",
     "output_type": "stream",
     "text": [
      "[[1 2 4]\n",
      " [5 7 9]]\n",
      "[[1. 1. 1.]\n",
      " [1. 1. 1.]]\n"
     ]
    }
   ],
   "source": [
    "arr = np.array([(1,2,4),(5,7,9)]) # 2행 3열 ndarray\n",
    "print(arr)\n",
    "# 위에서 설정한 ones, zerosl, full, empty와 같은 역할을 하면서 shape이 지정한 array와 같도록 만드는 함수\n",
    "arr_like = np.ones_like(arr,dtype=np.float64)\n",
    "print(arr_like)"
   ]
  },
  {
   "cell_type": "code",
   "execution_count": 93,
   "metadata": {},
   "outputs": [
    {
     "data": {
      "text/plain": [
       "array([0, 2, 4, 6, 8])"
      ]
     },
     "execution_count": 93,
     "metadata": {},
     "output_type": "execute_result"
    }
   ],
   "source": [
    "## ndarray를 만드는 다양한 방법 - arange\n",
    "## python의 range()와 유사한 기능을 해요!\n",
    "arr = np.arange(0,10,2) # 0은 포함, 10은 exclusive, 2씩 증가\n",
    "arr"
   ]
  },
  {
   "cell_type": "code",
   "execution_count": 96,
   "metadata": {},
   "outputs": [
    {
     "name": "stdout",
     "output_type": "stream",
     "text": [
      "[0.1 1.1 2.1 3.1 4.1 5.1]\n"
     ]
    }
   ],
   "source": [
    "arr = np.arange(0.1,5.3) # 0.1부터 시작, 5.3은 불포함 1씩 증가\n",
    "print(arr)"
   ]
  },
  {
   "cell_type": "code",
   "execution_count": 101,
   "metadata": {},
   "outputs": [
    {
     "data": {
      "text/plain": [
       "array([ 0.        ,  0.52631579,  1.05263158,  1.57894737,  2.10526316,\n",
       "        2.63157895,  3.15789474,  3.68421053,  4.21052632,  4.73684211,\n",
       "        5.26315789,  5.78947368,  6.31578947,  6.84210526,  7.36842105,\n",
       "        7.89473684,  8.42105263,  8.94736842,  9.47368421, 10.        ])"
      ]
     },
     "execution_count": 101,
     "metadata": {},
     "output_type": "execute_result"
    }
   ],
   "source": [
    "## ndarray를 만드는 다양한 방법 - linspace\n",
    "# np.linspace(start,stop,num)\n",
    "# start부터 stop까지 범위에서 num개를 균일한 가격으로 데이터를 생성하고 ndarray로 return\n",
    "\n",
    "arr = np.linspace(0,10,20)      # 1부터10까지 20개 있어야한다는 뜻! # 간격이 변화되서 20개가 들어가도록\n",
    "\n",
    "# 눈으로 보기 힘드니 그래프로 그려 보아요\n",
    "# char를 그리는 대표적인 package:  matplotlib"
   ]
  },
  {
   "cell_type": "code",
   "execution_count": 103,
   "metadata": {},
   "outputs": [],
   "source": [
    "import matplotlib.pyplot as plt"
   ]
  },
  {
   "cell_type": "code",
   "execution_count": 107,
   "metadata": {},
   "outputs": [
    {
     "name": "stdout",
     "output_type": "stream",
     "text": [
      "[ 0.          0.1010101   0.2020202   0.3030303   0.4040404   0.50505051\n",
      "  0.60606061  0.70707071  0.80808081  0.90909091  1.01010101  1.11111111\n",
      "  1.21212121  1.31313131  1.41414141  1.51515152  1.61616162  1.71717172\n",
      "  1.81818182  1.91919192  2.02020202  2.12121212  2.22222222  2.32323232\n",
      "  2.42424242  2.52525253  2.62626263  2.72727273  2.82828283  2.92929293\n",
      "  3.03030303  3.13131313  3.23232323  3.33333333  3.43434343  3.53535354\n",
      "  3.63636364  3.73737374  3.83838384  3.93939394  4.04040404  4.14141414\n",
      "  4.24242424  4.34343434  4.44444444  4.54545455  4.64646465  4.74747475\n",
      "  4.84848485  4.94949495  5.05050505  5.15151515  5.25252525  5.35353535\n",
      "  5.45454545  5.55555556  5.65656566  5.75757576  5.85858586  5.95959596\n",
      "  6.06060606  6.16161616  6.26262626  6.36363636  6.46464646  6.56565657\n",
      "  6.66666667  6.76767677  6.86868687  6.96969697  7.07070707  7.17171717\n",
      "  7.27272727  7.37373737  7.47474747  7.57575758  7.67676768  7.77777778\n",
      "  7.87878788  7.97979798  8.08080808  8.18181818  8.28282828  8.38383838\n",
      "  8.48484848  8.58585859  8.68686869  8.78787879  8.88888889  8.98989899\n",
      "  9.09090909  9.19191919  9.29292929  9.39393939  9.49494949  9.5959596\n",
      "  9.6969697   9.7979798   9.8989899  10.        ]\n"
     ]
    },
    {
     "data": {
      "image/png": "[encoded data removed]",
      "text/plain": [
       "<Figure size 432x288 with 1 Axes>"
      ]
     },
     "metadata": {
      "needs_background": "light"
     },
     "output_type": "display_data"
    }
   ],
   "source": [
    "arr = np.linspace(0,10,100)\n",
    "print(arr)\n",
    "plt.plot(arr)\n",
    "plt.show()"
   ]
  },
  {
   "cell_type": "code",
   "execution_count": 113,
   "metadata": {},
   "outputs": [
    {
     "name": "stdout",
     "output_type": "stream",
     "text": [
      "[48.1269995  49.70425156 51.64713283 ... 49.5870573  47.92914182\n",
      " 48.97195924]\n"
     ]
    },
    {
     "data": {
      "image/png": "[encoded data removed]",
      "text/plain": [
       "<Figure size 432x288 with 1 Axes>"
      ]
     },
     "metadata": {
      "needs_background": "light"
     },
     "output_type": "display_data"
    }
   ],
   "source": [
    "## Numpy Array(ndarray)\n",
    "## 특징. 여러가지 속성들(ndim, shape...)\n",
    "## ndarray 생성 방법\n",
    "\n",
    "# 난수를 이용해서 ndarray를 생성하는 방법\n",
    "# 5가지 정도가 존재\n",
    "\n",
    "# np.random.normal(): 난수를 생성해서 ndarray를 만들 수 있음\n",
    "# 정규 분포 확률 밀도에서 난수를 발생시켜요!\n",
    "\n",
    "import numpy as np\n",
    "import matplotlib.pyplot as plt\n",
    "\n",
    "## 평균\n",
    "myMean = 50\n",
    "## 표준편차\n",
    "myStd = 2\n",
    "\n",
    "arr = np.random.normal(myMean,myStd,(10000,))\n",
    "print(arr)\n",
    "plt.hist(arr,bins=100)\n",
    "plt.show()"
   ]
  },
  {
   "cell_type": "code",
   "execution_count": 116,
   "metadata": {},
   "outputs": [
    {
     "data": {
      "image/png": "[encoded data removed]",
      "text/plain": [
       "<Figure size 432x288 with 1 Axes>"
      ]
     },
     "metadata": {
      "needs_background": "light"
     },
     "output_type": "display_data"
    }
   ],
   "source": [
    "## 난수추출2\n",
    "## [0,1)구간에서 균등분포 확률밀도 상에서 난수 추출 # 0이상, 1미만\n",
    "arr = np.random.rand(1000) # 1차원       (2,3) -> 2차원\n",
    "# print(arr)\n",
    "plt.hist(arr,bins=100)\n",
    "plt.show()"
   ]
  },
  {
   "cell_type": "code",
   "execution_count": 121,
   "metadata": {},
   "outputs": [
    {
     "data": {
      "image/png": "[encoded data removed]",
      "text/plain": [
       "<Figure size 432x288 with 1 Axes>"
      ]
     },
     "metadata": {
      "needs_background": "light"
     },
     "output_type": "display_data"
    }
   ],
   "source": [
    "## 난수추출 3\n",
    "# 표준정규분포 확률밀도 상에서 난수 추출\n",
    "arr = np.random.randn(10000) #shape # 인자의 개수로 차원을 지정\n",
    "plt.hist(arr,bins=100)\n",
    "plt.show()"
   ]
  },
  {
   "cell_type": "code",
   "execution_count": 123,
   "metadata": {},
   "outputs": [
    {
     "data": {
      "image/png": "[encoded data removed]",
      "text/plain": [
       "<Figure size 432x288 with 1 Axes>"
      ]
     },
     "metadata": {
      "needs_background": "light"
     },
     "output_type": "display_data"
    }
   ],
   "source": [
    "## 난수를 추출(정수를 추출)\n",
    "# 주어진 범위에서 균등분포 확률 밀도상에서 난수 추출\n",
    "arr = np.random.randint(-100,100,(10000,))\n",
    "plt.hist(arr,bins=100)\n",
    "hist=26"
   ]
  },
  {
   "cell_type": "code",
   "execution_count": 126,
   "metadata": {},
   "outputs": [
    {
     "data": {
      "image/png": "[encoded data removed]",
      "text/plain": [
       "<Figure size 432x288 with 1 Axes>"
      ]
     },
     "metadata": {
      "needs_background": "light"
     },
     "output_type": "display_data"
    }
   ],
   "source": [
    "# 난수를 추출(실수 추출)\n",
    "# [0,1]에서 균등분포 확률밀ㄷ상에서 난수 추출\n",
    "arr = np.random.random((1000,)) #shoape를 줘야함\n",
    "plt.hist(arr,bins=100)\n",
    "plt.show()\n",
    "#"
   ]
  },
  {
   "cell_type": "code",
   "execution_count": 141,
   "metadata": {
    "scrolled": true
   },
   "outputs": [
    {
     "name": "stdout",
     "output_type": "stream",
     "text": [
      "[2 3 3 8 1]\n"
     ]
    }
   ],
   "source": [
    "# 난수는 랜덤값이기때문에 실행할 때마다 추출되는 난수가 달라져야 해요!\n",
    "# 난수값도 사실은 알고리즘에 의해서 계산되는 값이에요!\n",
    "# 알고리즘의 초기값을 고정시키면 항상 같은 난수를 얻을 수 있음->\n",
    "############### 재현성!!\n",
    "\n",
    "arr = np.random.randint(0,10,(5,)) #  0~10추출/1차원 5개/정수를 균등분포로 추춮\n",
    "print(arr)"
   ]
  },
  {
   "cell_type": "markdown",
   "metadata": {},
   "source": [
    "### array: 연속적으로 할당되고 같은 데이터 타입의 데이터를 저장할 수 있는 자료구조(배열)\n",
    "### 기본적으로 생성하는 방법\n",
    "### import numpy as np\n",
    "## Python에서 built-in type;\n",
    "### int, float, bool, str, list, tuple, dict, set\n",
    "### 이 데이터 타입이라고 알고 있던 것들이 실제로는 class\n",
    "### type함수로 class를 알아냄\n"
   ]
  },
  {
   "cell_type": "code",
   "execution_count": 7,
   "metadata": {},
   "outputs": [
    {
     "name": "stdout",
     "output_type": "stream",
     "text": [
      "<class 'numpy.ndarray'>\n",
      "[1 2 3 4]\n",
      "[1, 2, 3]\n",
      "1\n",
      "(4,)\n"
     ]
    }
   ],
   "source": [
    "arr = np.array([1,2,3,4])\n",
    "print(type(arr))\n",
    "print(arr) # ndarray\n",
    "print([1,2,3])  # 리스트   # 표현방식이 다름\n",
    "print(arr.ndim) # 몇차원인지, 차원의 수\n",
    "print(arr.shape)  # ndarray의 모양, 각 차원당 몇개의 요소가 들어가 있는지       # tuple로 표현"
   ]
  },
  {
   "cell_type": "code",
   "execution_count": 9,
   "metadata": {},
   "outputs": [
    {
     "name": "stdout",
     "output_type": "stream",
     "text": [
      "[[1 2 3]\n",
      " [1 2 3]]\n",
      "2\n",
      "(2, 3)\n"
     ]
    }
   ],
   "source": [
    "# 중첩구조를 만들면 -> 2차원 이상의 ndarray를 만들 수 있음!\n",
    "myList = [[1,2,3],[1,2,3]]\n",
    "arr = np.array(myList)\n",
    "print(arr)\n",
    "print(arr.ndim)\n",
    "print(arr.shape)"
   ]
  },
  {
   "cell_type": "code",
   "execution_count": 12,
   "metadata": {},
   "outputs": [
    {
     "name": "stdout",
     "output_type": "stream",
     "text": [
      "6\n"
     ]
    },
    {
     "data": {
      "text/plain": [
       "2"
      ]
     },
     "execution_count": 12,
     "metadata": {},
     "output_type": "execute_result"
    }
   ],
   "source": [
    "# 전체 요소의 개수를 알아내려면?\n",
    "print(arr.size)\n",
    "print(len(arr)) # 1차원의 개수를 세어줌"
   ]
  },
  {
   "cell_type": "code",
   "execution_count": 2,
   "metadata": {},
   "outputs": [],
   "source": [
    "import numpy as np"
   ]
  },
  {
   "cell_type": "code",
   "execution_count": 3,
   "metadata": {},
   "outputs": [
    {
     "name": "stdout",
     "output_type": "stream",
     "text": [
      "[[ 0  1  2  3]\n",
      " [ 4  5  6  7]\n",
      " [ 8  9 10 11]]\n",
      "10\n",
      "[6]\n"
     ]
    }
   ],
   "source": [
    "arr = np.arange(0,12,1).reshape(3,4).copy()\n",
    "print(arr)\n",
    "print(arr[2,2]) # 10\n",
    "print(arr[1:2,2])  # [6]\n",
    "# print(arr[행,열])"
   ]
  },
  {
   "cell_type": "code",
   "execution_count": 4,
   "metadata": {},
   "outputs": [
    {
     "name": "stdout",
     "output_type": "stream",
     "text": [
      "[ 2 10]\n"
     ]
    }
   ],
   "source": [
    "print(arr[[0,2],2]) # [2 10]"
   ]
  },
  {
   "cell_type": "code",
   "execution_count": 7,
   "metadata": {},
   "outputs": [
    {
     "name": "stdout",
     "output_type": "stream",
     "text": [
      "[[ 1  2  3]\n",
      " [ 9 10 11]]\n"
     ]
    }
   ],
   "source": [
    "print(arr[[0,2],1:]) # [1 2 3] [ 9 10 11]  # 2차원 형태의 numpy array"
   ]
  },
  {
   "cell_type": "code",
   "execution_count": 8,
   "metadata": {},
   "outputs": [
    {
     "name": "stdout",
     "output_type": "stream",
     "text": [
      "[[ 0  2]\n",
      " [ 4  6]\n",
      " [ 8 10]]\n"
     ]
    }
   ],
   "source": [
    "print(arr[:,[0,2]])"
   ]
  },
  {
   "cell_type": "code",
   "execution_count": 11,
   "metadata": {},
   "outputs": [
    {
     "name": "stdout",
     "output_type": "stream",
     "text": [
      "[ 5 10]\n"
     ]
    }
   ],
   "source": [
    "print(arr[[1,2],[1,2]]) #  fancy indexing 불가능"
   ]
  },
  {
   "cell_type": "code",
   "execution_count": 13,
   "metadata": {},
   "outputs": [
    {
     "name": "stdout",
     "output_type": "stream",
     "text": [
      "[[ 0  1  2  3]\n",
      " [ 8  9 10 11]]\n"
     ]
    }
   ],
   "source": [
    "print(arr[[0,2],])"
   ]
  },
  {
   "cell_type": "code",
   "execution_count": 14,
   "metadata": {},
   "outputs": [
    {
     "name": "stdout",
     "output_type": "stream",
     "text": [
      "[[ 4  5  6  7]\n",
      " [ 8  9 10 11]]\n"
     ]
    }
   ],
   "source": [
    "print(arr[[1,2]])"
   ]
  },
  {
   "cell_type": "code",
   "execution_count": 15,
   "metadata": {},
   "outputs": [
    {
     "name": "stdout",
     "output_type": "stream",
     "text": [
      "[[ 5  6]\n",
      " [ 9 10]]\n",
      "[[ 5  6]\n",
      " [ 9 10]]\n"
     ]
    }
   ],
   "source": [
    "# 방법1\n",
    "print(arr[[1,2]][:,[1,2]])\n",
    "# 방법2\n",
    "print(arr[np.ix_([1,2],[1,2])])"
   ]
  },
  {
   "cell_type": "markdown",
   "metadata": {},
   "source": [
    "# ndarray의 연산"
   ]
  },
  {
   "cell_type": "code",
   "execution_count": 20,
   "metadata": {
    "scrolled": true
   },
   "outputs": [
    {
     "name": "stdout",
     "output_type": "stream",
     "text": [
      "[[1 2 3]\n",
      " [4 5 6]]\n",
      "[[6 9 6]\n",
      " [1 1 2]]\n",
      "[[ 7 11  9]\n",
      " [ 5  6  8]]\n"
     ]
    }
   ],
   "source": [
    "# R의 벡터 연산과 유사\n",
    "np.random.seed(1)\n",
    "arr1= np.arange(1,7).reshape(2,3).copy()\n",
    "arr2 = np.random.randint(1,10,(2,3))\n",
    "print(arr1)\n",
    "print(arr2)\n",
    "print(arr1+arr2) # python의 list에서 연산하면 리스트가 늘어남 # numpy ndarray에서 연산을 수행"
   ]
  },
  {
   "cell_type": "code",
   "execution_count": 26,
   "metadata": {},
   "outputs": [
    {
     "name": "stdout",
     "output_type": "stream",
     "text": [
      "[[ 0  1  2  3]\n",
      " [ 4  5  6  7]\n",
      " [ 8  9 10 11]]\n",
      "[[10 11 12 13]\n",
      " [14 15 16 17]\n",
      " [18 19 20 21]]\n"
     ]
    }
   ],
   "source": [
    "print(arr)\n",
    "print(arr+10) # 연산이 안되어야 정상 , 타입이 안맞음 # 스칼라를 브로드캐스트 시켜요\n",
    "# 10 => 2행 3열짜리를 10으로 모두 채워진 ndarray\n",
    "\n"
   ]
  },
  {
   "cell_type": "code",
   "execution_count": 25,
   "metadata": {},
   "outputs": [
    {
     "name": "stdout",
     "output_type": "stream",
     "text": [
      "arr1: \n",
      " [[1 2 3]\n",
      " [4 5 6]]\n",
      "arr2: \n",
      " [1 2 3]\n",
      "arr1+arr2: \n",
      " [[2 4 6]\n",
      " [5 7 9]]\n"
     ]
    }
   ],
   "source": [
    "print(\"arr1: \\n\",arr1)\n",
    "print(\"arr2: \\n\",arr2)\n",
    "arr2 = np.array([1,2,3])\n",
    "print(\"arr1+arr2: \\n\",arr1+arr2)"
   ]
  },
  {
   "cell_type": "markdown",
   "metadata": {},
   "source": [
    "## 기본적인 집계(통계)함수"
   ]
  },
  {
   "cell_type": "code",
   "execution_count": 31,
   "metadata": {},
   "outputs": [
    {
     "name": "stdout",
     "output_type": "stream",
     "text": [
      "arr을 출력합니다 \n",
      " [[ 0  1  2  3]\n",
      " [ 4  5  6  7]\n",
      " [ 8  9 10 11]]\n",
      "66\n",
      "66\n",
      "[[ 0  1  2  3]\n",
      " [ 4  5  6  7]\n",
      " [ 8  9 10 11]]\n"
     ]
    }
   ],
   "source": [
    "arr = np.arange(0,12,1).reshape(3,4).copy()\n",
    "print(\"arr을 출력합니다 \\n\",arr)\n",
    "print(np.sum(arr))      # 함수\n",
    "print(arr.sum())        # 매서드\n",
    "print(arr)"
   ]
  },
  {
   "cell_type": "code",
   "execution_count": 38,
   "metadata": {},
   "outputs": [
    {
     "name": "stdout",
     "output_type": "stream",
     "text": [
      "[ 0  1  3  6 10 15 21 28 36 45 55 66]\n",
      "5.5\n",
      "11\n",
      "0\n",
      "3.452052529534663\n",
      "[[0.         1.         1.41421356 1.73205081]\n",
      " [2.         2.23606798 2.44948974 2.64575131]\n",
      " [2.82842712 3.         3.16227766 3.31662479]]\n",
      "[[      -inf 0.         0.30103    0.47712125]\n",
      " [0.60205999 0.69897    0.77815125 0.84509804]\n",
      " [0.90308999 0.95424251 1.         1.04139269]]\n"
     ]
    },
    {
     "name": "stderr",
     "output_type": "stream",
     "text": [
      "C:\\Users\\student\\Anaconda3\\envs\\cpu_env\\lib\\site-packages\\ipykernel_launcher.py:7: RuntimeWarning: divide by zero encountered in log10\n",
      "  import sys\n"
     ]
    }
   ],
   "source": [
    "print(np.cumsum(arr)) # 1차원으로 변환 # 누적함수\n",
    "print(np.mean(arr)) # 평균\n",
    "print(np.max(arr))  # 최대\n",
    "print(np.min(arr))  # 최소\n",
    "print(np.std(arr))  # 표준편차\n",
    "print(np.sqrt(arr)) # 각각의 제곱근\n",
    "print(np.log10(arr)) # 자연로그. 사용로그 사용할 수 있어요!"
   ]
  },
  {
   "cell_type": "markdown",
   "metadata": {},
   "source": [
    "## 축개념을 이해해 보아요\n",
    "## 위에 있는 집계함수를 이용할 때 axis 개념을 사용해요!\n",
    "## 만약 axis를 명시하지 않으면 axis를 None으로 설정하고\n",
    "## 대상범위를 전체 ndarray로 지정"
   ]
  },
  {
   "cell_type": "code",
   "execution_count": 45,
   "metadata": {
    "collapsed": true
   },
   "outputs": [
    {
     "name": "stdout",
     "output_type": "stream",
     "text": [
      "[0 1 2 3 4]\n",
      "10\n",
      "10\n"
     ]
    }
   ],
   "source": [
    "# 1차원\n",
    "arr = np.arange(0,5,1)\n",
    "print(arr)\n",
    "print(arr.sum()) # axis를 명시하지 않은 경우\n",
    "print(arr.sum(axis=0)) # 1차원에서 axis=0이면 열방향 axis=1이면 행방향 지시\n"
   ]
  },
  {
   "cell_type": "code",
   "execution_count": 48,
   "metadata": {
    "scrolled": true
   },
   "outputs": [
    {
     "name": "stdout",
     "output_type": "stream",
     "text": [
      "원본의 모습은:\n",
      " [[ 0  1  2  3]\n",
      " [ 4  5  6  7]\n",
      " [ 8  9 10 11]]\n",
      "축이 0, 행방향으로 집계: [12 15 18 21]\n",
      "축이 0, 행방향으로 집계: [ 6 22 38]\n"
     ]
    }
   ],
   "source": [
    "# 2차원\n",
    "arr= np.arange(0,12,1).reshape(3,4).copy()\n",
    "print(\"원본의 모습은:\\n\",arr)\n",
    "print(\"축이 0, 행방향으로 집계:\",arr.sum(axis=0)) # axis = 0 행 방향으로 집계 함수 사용\n",
    "print(\"축이 0, 행방향으로 집계:\",arr.sum(axis=1)) # axis = 1 열을 지칭"
   ]
  },
  {
   "cell_type": "code",
   "execution_count": null,
   "metadata": {},
   "outputs": [],
   "source": [
    "### 일반 로직으로 처리하는 것 보다는\n",
    "### 집계함수를 이용해서 처리하는 것이 훨씬 X 100000000000 빠름"
   ]
  },
  {
   "cell_type": "code",
   "execution_count": 35,
   "metadata": {
    "scrolled": true
   },
   "outputs": [
    {
     "name": "stdout",
     "output_type": "stream",
     "text": [
      "[1 3 6]\n"
     ]
    }
   ],
   "source": [
    "print(np.cumsum([1,2,3]))"
   ]
  },
  {
   "cell_type": "code",
   "execution_count": 40,
   "metadata": {
    "scrolled": true
   },
   "outputs": [
    {
     "name": "stdout",
     "output_type": "stream",
     "text": [
      "[0.         0.30103    0.47712125]\n"
     ]
    }
   ],
   "source": [
    "print(np.log10([1,2,3]))"
   ]
  },
  {
   "cell_type": "code",
   "execution_count": 41,
   "metadata": {
    "scrolled": true
   },
   "outputs": [
    {
     "name": "stdout",
     "output_type": "stream",
     "text": [
      "[1. 2. 4.]\n"
     ]
    }
   ],
   "source": [
    "print(np.log10([10,100,10000]))"
   ]
  },
  {
   "cell_type": "code",
   "execution_count": 56,
   "metadata": {},
   "outputs": [
    {
     "name": "stdout",
     "output_type": "stream",
     "text": [
      "[[6 9 6 1 1]\n",
      " [2 8 7 3 5]]\n",
      "[[ True  True  True False False]\n",
      " [False  True  True False False]]\n",
      "[6 9 6 8 7]\n",
      "5\n",
      "5\n"
     ]
    }
   ],
   "source": [
    "# 응용\n",
    "np.random.seed(1)\n",
    "arr = np.random.randint(1,10,(2,5))\n",
    "print(arr)\n",
    "print(arr>5)\n",
    "print(arr[arr>5])\n",
    "\n",
    "print((arr>5).sum())\n",
    "print(arr[arr>5].size)"
   ]
  },
  {
   "cell_type": "code",
   "execution_count": 69,
   "metadata": {},
   "outputs": [
    {
     "name": "stdout",
     "output_type": "stream",
     "text": [
      "[[ 0  1  2  3]\n",
      " [ 4  5  6  7]\n",
      " [ 8  9 10 11]]\n",
      "\n",
      "\n",
      "[ 0  2  3  4  5  6  7  8  9 10 11]\n",
      "\n",
      "\n",
      "1번째 행 삭제,axis = 0 \n",
      " [[ 0  1  2  3]\n",
      " [ 8  9 10 11]]\n",
      "\n",
      "\n",
      "1번째 열 삭제,axis = 1 \n",
      " [[ 0  2  3]\n",
      " [ 4  6  7]\n",
      " [ 8 10 11]]\n",
      "\n",
      "\n"
     ]
    }
   ],
   "source": [
    "# delect() 함수는 axis를 기준으로 행과 열을 삭제\n",
    "# axis를 지정하지 않으면 1차배열을 변환한 후 해당 요소를 삭제\n",
    "## 원본은 유지하고 삭제된 복사본을 return\n",
    "\n",
    "arr = np.arange(0,12,1).reshape(3,4).copy()\n",
    "print(arr)\n",
    "print(\"\\n\")\n",
    "# axis를 지정하지 않고 삭제 처리\n",
    "result = np.delete(arr,1)     # 1차 배열로 변환한 후 해당 인덱스를 삭제 \n",
    "print(result) # 1번째 인덱스만 날라감\n",
    "print(\"\\n\")\n",
    "# axis를 지정\n",
    "arr = np.arange(0,12,1).reshape(3,4).copy()\n",
    "result = np.delete(arr,1,axis=0)\n",
    "print(\"1번째 행 삭제,axis = 0 \\n\",result) # 1번째 행 삭제\n",
    "print(\"\\n\")\n",
    "\n",
    "arr = np.arange(0,12,1).reshape(3,4).copy()\n",
    "result = np.delete(arr,1,axis=1)\n",
    "print(\"1번째 열 삭제,axis = 1 \\n\",result) # 1번째 열 삭제\n"
   ]
  },
  {
   "cell_type": "code",
   "execution_count": null,
   "metadata": {},
   "outputs": [],
   "source": []
  }
 ],
 "metadata": {
  "kernelspec": {
   "display_name": "[CPU_ENV]",
   "language": "python",
   "name": "cpu_env"
  },
  "language_info": {
   "codemirror_mode": {
    "name": "ipython",
    "version": 3
   },
   "file_extension": ".py",
   "mimetype": "text/x-python",
   "name": "python",
   "nbconvert_exporter": "python",
   "pygments_lexer": "ipython3",
   "version": "3.6.9"
  }
 },
 "nbformat": 4,
 "nbformat_minor": 2
}
