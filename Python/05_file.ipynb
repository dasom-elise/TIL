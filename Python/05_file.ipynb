{
 "cells": [
  {
   "cell_type": "code",
   "execution_count": 4,
   "metadata": {},
   "outputs": [
    {
     "name": "stdout",
     "output_type": "stream",
     "text": [
      "홍길동,18,7,19\n",
      "최길동,58,70,15\n",
      "아이유,92,94,99\n",
      "김연아,17,20,22\n",
      "이선희,76,25,14\n",
      "강감찬,90,19,71\n",
      "신사임당,31,23,16"
     ]
    }
   ],
   "source": [
    "## python의 기본 파일처리\n",
    "\n",
    "## 먼저 file handle을 획득해야 해요!~\n",
    "## 사용할 데이터파일을 오픈해요!!\n",
    "## 읽기용도, 쓰기용도\n",
    "\n",
    "file1 = open(\"student_score.txt\",\"r\")\n",
    "file2 = open(\"backup.txt\",\"w\")\n",
    "# 학생 성적파일에서 한줄씩 읽어와서\n",
    "# output console에 출력하고 해당내용을 \n",
    "# backup 파일에 저장\n",
    "\n",
    "# 홍길동,18,7,19(개행문자 \\n)\n",
    "# 최길동,58,70,15(개행문자 \\n)\n",
    "# 아이유,92,94,99(개행문자 \\n)\n",
    "\n",
    "while True:\n",
    "    line = file1.readline()\n",
    "    print(line, end=\"\") # 출력한 다음 한줄을 띄어요!    \n",
    "    if not line:\n",
    "        break;    # 가장 가까운 반복문 1개만 탈출\n",
    "    file2.write(line)\n",
    "\n",
    "file1.close()\n",
    "file2.close()\n",
    "    \n",
    "        "
   ]
  }
 ],
 "metadata": {
  "kernelspec": {
   "display_name": "[CPU_ENV]",
   "language": "python",
   "name": "cpu_env"
  },
  "language_info": {
   "codemirror_mode": {
    "name": "ipython",
    "version": 3
   },
   "file_extension": ".py",
   "mimetype": "text/x-python",
   "name": "python",
   "nbconvert_exporter": "python",
   "pygments_lexer": "ipython3",
   "version": "3.6.9"
  }
 },
 "nbformat": 4,
 "nbformat_minor": 2
}
