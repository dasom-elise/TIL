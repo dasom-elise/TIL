{
 "cells": [
  {
   "cell_type": "code",
   "execution_count": 2,
   "metadata": {},
   "outputs": [],
   "source": [
    "## NumPy (Numerical Python)\n",
    "## 수학적 계산을 할때, 수치연산을 할때 사용되요.\n",
    "## 마치 R의 Vector를 사용하는 것처럼 NumPy를 이용할 수 있어요!\n",
    "## Vector 연산, Matrix연산을 빠르고 효율적으로 처리할 수 있어요\n",
    "\n",
    "## Pandas, Matplotlib의 기본 module이 NumPy\n",
    "\n",
    "## NumPy module은 ndarray(n-dimensional array) : n차원의 array  라고 불리는 자료구조를 이용해요\n",
    "## => R에서 Vector과 유사\n",
    "## R의 vector 자료구조는 같은 데이터 타입을 저장하는 자료구조\n",
    "## ndarray도 같은 데이터 타입만 저장이 가능\n",
    "\n",
    "## NumPy의 ndarray를 이용하려면 NumPy module이 설치되어 있어야 해요!"
   ]
  },
  {
   "cell_type": "code",
   "execution_count": 3,
   "metadata": {
    "scrolled": true
   },
   "outputs": [
    {
     "name": "stdout",
     "output_type": "stream",
     "text": [
      "[1, 2, 3, 4]\n",
      "list => [1, 2, 3, 4], type => <class 'list'>\n",
      "list[0] => 1, type => <class 'int'>\n",
      "ndarray => [1 2 3 4]\n",
      "ndarray type=> <class 'numpy.ndarray'>\n",
      "ndarray dtype=> int32\n",
      "4294967296\n",
      "18446744073709551616\n",
      "['100' ',Hello' '3.14']\n",
      "<U11\n",
      "<class 'numpy.str_'>\n"
     ]
    }
   ],
   "source": [
    "## module을 설치할 때 conda 명령을 이용해서 설치\n",
    "## python은 pip를 이용해서 module을 설치\n",
    "# conda install numpy\n",
    "\n",
    "import numpy as np\n",
    "\n",
    "## ndarrat를 생성하고 data type을 살펴보아요\n",
    "\n",
    "## python list\n",
    "a = [1,2,3,4]\n",
    "print(a)\n",
    "print(\"list => {}, type => {}\".format(a,type(a)))\n",
    "      # list 내용\n",
    "# python은 class로 이루어져 있음\n",
    "print(\"list[0] => {}, type => {}\".format(a[0],type(a[0])))\n",
    "# type함수는 파이썬에서 해당데이터가 어떤 클래스의 객체인지를 알려줌\n",
    "# 정수를 만드는것 => 정수객체를 만드는것\n",
    "\n",
    "# NumPy ndarray\n",
    "b = np.array([1,2,3,4])\n",
    "# [1,2,3,4]를 numpy array로 바꿀 수 있다\n",
    "# python 의 기본자료구조\n",
    "\n",
    "print(\"ndarray => {}\".format(b))\n",
    "# ndarray => [1 2 3 4] comma가 없어\n",
    "\n",
    "print(\"ndarray type=> {}\".format(type(b)))\n",
    "# numpy ndarray에 객체를 만들어서 사용\n",
    "\n",
    "print(\"ndarray dtype=> {}\".format(b.dtype))\n",
    "# dtype : data type 클래스 이름x int, float냐...\n",
    "# 기본적으로 잡히는게  32비트\n",
    "# int32 => 정수형이고 32bit로 구성되어 있어요!\n",
    "# 2진수로 32개의 비트로 표현할 수 있는 최대 수\n",
    "\n",
    "print(2 ** 32)\n",
    "# 2진수 1개로 표현할 수 있는 수는 2 => 2 ** 1\n",
    "# 2진수 2개로 표현할 수 있는 수는 4 => 2 ** 2\n",
    "# 2진수 3개로 표현할 수 있는 수는 8 => 2 ** 3\n",
    "# 2진수 32개로 표현할 수 있는 수는 ? => 2 **32\n",
    "# int64를 이용하면 더 큰수를 표현할 수 있어요!\n",
    "# 정수, 64비트를 이용 => 2 ** 64\n",
    "print(2 ** 64)\n",
    "## int64가아니라 int32쓰는이유 : 메모리 공간때문에\n",
    "## 나중에 data type맞추는게 중요하기 때문에! 알아두어야 한다!\n",
    "\n",
    "## numpy array 함수를 만드는 가장 간단한 방법 => array()함수 이용\n",
    "c = np.array([100,\",Hello\",3.14])\n",
    "\n",
    "print(c)    # 모두 같은 data type이 되어야해요\n",
    "# 싹다 문자열로 바뀜\n",
    "# 상위 데이터로(x) 모두 변환할 수 있는 데이터 타입으로 바뀜\n",
    "\n",
    "print(c.dtype)          # <U11\n",
    "# 유니코드 문자열\n",
    "print(type(c[0]))       # <class 'numpy.str_'>\n",
    "# 사용하는 클래스가 달라\n",
    "# 눈으로 보이기에는 같은숫자지만 메모리상의 만들어 지는 구조자체는 달라\n",
    "\n",
    "\n",
    "\n",
    "\n"
   ]
  },
  {
   "cell_type": "code",
   "execution_count": 4,
   "metadata": {},
   "outputs": [
    {
     "name": "stdout",
     "output_type": "stream",
     "text": [
      "1\n",
      "[[1 2 3]\n",
      " [4 5 6]]\n",
      "int32\n",
      "float64\n",
      "[[1. 2. 3.]\n",
      " [4. 5. 6.]]\n"
     ]
    }
   ],
   "source": [
    "## 다차원 numpy array를 만들어보아요!\n",
    "# myList = [(1,2,3),(4,5,6)]\n",
    "myList = [[1,2,3],[4,5,6]]\n",
    "\n",
    "arr = np.array(myList)   # 2차원의 ndarray\n",
    "## 1행 2열의 값은 얼마인가요? => 6\n",
    "# print(arr[1][2]) 이형태로 쓰지 않아요\n",
    "print(arr[0,0])\n",
    "# index의 시작은 0부터 시작해요!\n",
    "# n차원의 ndarray가 어떻게 표현되는지 확인해야 해요!\n",
    "# 기본 데이터타입은 정수일 경우 int32 로 사용되요\n",
    "print(arr)\n",
    "print(arr.dtype)\n",
    "\n",
    "## 만약 데이터타입을 지정하려면\n",
    "arr = np.array(myList, dtype = \"int64\") # 그다지 좋지 않아요!\n",
    "arr = np.array(myList, dtype = np.int64) # 이렇게 사용하세요!\n",
    "arr = np.array(myList, dtype = np.float64) \n",
    "print(arr.dtype)\n",
    "print(arr)   # . => .0이 원래 붙어있음\n",
    "            # 실수 형태로 나타나게 됨\n",
    "\n",
    "    "
   ]
  },
  {
   "cell_type": "code",
   "execution_count": 5,
   "metadata": {},
   "outputs": [
    {
     "name": "stdout",
     "output_type": "stream",
     "text": [
      "[[[1 2]\n",
      "  [3 4]]\n",
      "\n",
      " [[5 6]\n",
      "  [7 8]]]\n",
      "3\n",
      "(2, 2, 2)\n",
      "(4, 2)\n"
     ]
    }
   ],
   "source": [
    "## 차원의 개수와 크기 및 axis\n",
    "myList =[1,2,3,4]\n",
    "myList2 = [[1,2,3],[4,5,6]]\n",
    "myList2 = [[1,2],[3,4],[5,6],[7,8]]\n",
    "myList = [[[1,2],[3,4]],[[5,6],[7,8]]]\n",
    "\n",
    "arr = np.array(myList)    # python list를 이용해서 numpy array생성\n",
    "arr2 = np.array(myList2)\n",
    "print(arr)\n",
    "\n",
    "# 이렇게 numpy array를 생성하면 차원의 개수를 알 수 있어요!\n",
    "print(arr.ndim)   # 차원의 개수를 알려주는 속성\n",
    "\n",
    "## 차원의 개수와 원소 개수를 동시에 알려주는 속성\n",
    "print(arr.shape)    # (4,)\n",
    "# 튜플로 떨어짐\n",
    "# 원소가 하나가 있는 튜플 쉼표찍어줌\n",
    "# 1차원이라는 소리\n",
    "print(arr2.shape)    # (2, 3) : 2행 3열\n",
    "\n",
    "## 1차원 => 열\n",
    "## 2차원 => 행, 열\n",
    "## 3차원 => 면, 행, 열"
   ]
  },
  {
   "cell_type": "code",
   "execution_count": 6,
   "metadata": {},
   "outputs": [
    {
     "name": "stdout",
     "output_type": "stream",
     "text": [
      "ndarray의 차원의 수는 : 1\n",
      "ndarray의 shape : (12,)\n",
      "ndarray의 요소개수 : 12\n",
      "ndarray의 len() : 12\n",
      "[[[[ 1  2  3]\n",
      "   [ 4  5  6]]]\n",
      "\n",
      "\n",
      " [[[ 7  8  9]\n",
      "   [10 11 12]]]]\n"
     ]
    }
   ],
   "source": [
    "# numpy array 차원 제어\n",
    "\n",
    "# myList = [1,2,3,4]\n",
    "# myList = [[1,2,3],[4,5,6]]\n",
    "myList = [1,2,3,4,5,6,7,8,9,10,11,12]\n",
    "arr = np.array(myList)   # numpy array 생성 (ndarray)\n",
    "\n",
    "# 차원의 수를 알아보아요!\n",
    "print(\"ndarray의 차원의 수는 : {}\".format(arr.ndim))\n",
    "# 차원의 수와 각 차원이 원소이 개수\n",
    "print(\"ndarray의 shape : {}\".format(arr.shape))\n",
    "# ndarray의 크기를 알아보아요!\n",
    "# ndarray이 차원에 상관없이 모든 요소의 개수\n",
    "print(\"ndarray의 요소개수 : {}\".format(arr.size))\n",
    "# python이 len()함수는 ndarray에 대해 적용하면\n",
    "# 1차원의 요소개수를 ,리턴 전체 요소개수(x)\n",
    "print(\"ndarray의 len() : {}\".format(len(arr)))\n",
    "# python 의 len함수랑 달라\n",
    "\n",
    "# shape을 변경할 수 있어요!\n",
    "# arr.shape = (2,2,3)   # tuple은 ()를 생략할 수 있어요!\n",
    "arr.shape = (2,1,2,3)\n",
    "# shape을 튜플로 출력\n",
    "# 내입맛대로 바굴수있어\n",
    "# 1차원을 2차원으로 3차원으로..\n",
    "# 행은 3개 열은 4개로\n",
    "print(arr)\n",
    "# 행단위로 채워간다\n",
    "\n",
    "## 이렇게 shape을 변경할 수 있는데 \n",
    "## arr.shape을 직접 바꾸는 방식은 잘 사용되지 않아요!\n",
    "## 다른 방식이 있어요! reshape()함수를 이용해요!!!"
   ]
  },
  {
   "cell_type": "code",
   "execution_count": 7,
   "metadata": {},
   "outputs": [
    {
     "name": "stdout",
     "output_type": "stream",
     "text": [
      "dtype : float64\n",
      "[ 1.1   3.14  2.   44.    3.99]\n",
      "[ 1  3  2 44  3]\n"
     ]
    }
   ],
   "source": [
    "## numpy arrayd의 type 변경\n",
    "arr = np.array([1.1,3.14, 2,44.0,3.99])  # 정수가 아니라 실수로\n",
    "print(\"dtype : {}\".format(arr.dtype))\n",
    "print(arr)\n",
    "\n",
    "## ndarray의 데이터 타입을 다른 형식으로 변경할 수 있어요!\n",
    "int_arr = arr.astype(np.int32) \n",
    "# dtype변경할 때 astype써주면돼\n",
    "print(int_arr)   # 실수를 정수로 변환할 때 소수점이하 버림처리\n",
    "# 같은 타입의 자료구조를 숫자형태로 사용가능\n",
    "\n"
   ]
  },
  {
   "cell_type": "code",
   "execution_count": 8,
   "metadata": {},
   "outputs": [
    {
     "name": "stdout",
     "output_type": "stream",
     "text": [
      "[[0. 0. 0. 0.]\n",
      " [0. 0. 0. 0.]\n",
      " [0. 0. 0. 0.]]\n",
      "[[1 1 1 1]\n",
      " [1 1 1 1]]\n",
      "[[9.80149715e-312 9.80115272e-312 1.16443429e-171 1.79192598e-312\n",
      "  2.98233776e-308 1.33360334e+241 5.40217688e-310]\n",
      " [2.00497879e+190 2.25876505e-312 1.55268435e-306 1.33360301e+241\n",
      "  1.38226806e-310 1.77678572e-176 2.59828438e-312]\n",
      " [2.53171685e-306 1.33360304e+241 1.76252970e-310 1.97057597e-046\n",
      "  1.15532724e-312 1.68400738e-019 1.10811151e-302]\n",
      " [2.17396811e-312 1.27630793e-303 1.27613271e-303 3.59199424e-289\n",
      "  2.82238967e-289 3.08994225e-289 3.12152357e-289]\n",
      " [2.40727468e+111 3.07991415e-289 3.75854737e-265 3.36251696e-289\n",
      "  4.00393793e+000 6.87851121e-246 2.03692002e+236]]\n",
      "[[9. 9. 9. 9.]\n",
      " [9. 9. 9. 9.]\n",
      " [9. 9. 9. 9.]]\n",
      "[[1 2 3]\n",
      " [4 5 6]]\n",
      "[[1. 1. 1.]\n",
      " [1. 1. 1.]]\n"
     ]
    }
   ],
   "source": [
    "### numpy array를 생성하는 다양한 방법\n",
    "\n",
    "arr = np.array([1,2,3,4])    # 리스트를 이용해서 ndarray를 생성\n",
    "\n",
    "## 모든 원소의 값이 0인 ndarray를 원하는 shape으로 생성\n",
    "arr = np.zeros((3,4)) # (3,4) shape형태로 원소의 값이 0인 ndarray를 생성 \n",
    "# 튜플표현 정수3,4 <= 인자가 두개 => 잘못받아들임\n",
    "\n",
    "print(arr)\n",
    "arr = np.ones((2,4)) \n",
    "# 실수를 기본으로 떨어짐\n",
    "arr = np.ones((2,4),dtype=np.int32) \n",
    "\n",
    "print(arr)\n",
    "\n",
    "## numpy array의 공간만 확보할 수 있어요!\n",
    "# 초기화를 하지 않아요!\n",
    "arr = np.empty((5,7))\n",
    "print(arr)\n",
    "# 메모리 공간 잡지 않아 => 메모리 공간 확보애햐애\n",
    "# ones나 zeros는  초기화 작업이 추가적으로 진행!\n",
    "## array의 크기가 커지면 속도가 저하\n",
    "\n",
    "arr = np.full((3,4),9, dtype=np.float64) # 임의의 값으로 초기화를 진행\n",
    "print(arr)\n",
    "\n",
    "arr = np.array([(1,2,3),(4,5,6)])   # 2행3열짜리 ndarray\n",
    "print(arr)\n",
    "\n",
    "# 위에서 셜명한 ones, zeros, full, empty와 같은 역할을 하면서 shape이 지정한 array와 같도록 만드는 향수\n",
    "arr_like =  np.ones_like(arr, dtype =np.float64)\n",
    "print(arr_like)"
   ]
  },
  {
   "cell_type": "code",
   "execution_count": 9,
   "metadata": {},
   "outputs": [
    {
     "name": "stdout",
     "output_type": "stream",
     "text": [
      "[0.1 1.1 2.1 3.1 4.1 5.1]\n"
     ]
    }
   ],
   "source": [
    "## ndarray를 만드는 다양한 방법 = ragend\n",
    "## pyton 의 range()와 유사한 기능을 해요!\n",
    "\n",
    "# arr = np.arange(0,10,2)   # 0은 포함, 10은 불포함, 2씩 증가\n",
    "# arr = np.arange(10)   # 시작치가 없으면 0부터 시작, `0은 불포함,,,\n",
    "arr = np.arange(0.1,5.3)  # 0.-1부터 시작, 5.3은 불포함, 1씩증가\n",
    "print(arr)"
   ]
  },
  {
   "cell_type": "code",
   "execution_count": 10,
   "metadata": {
    "scrolled": true
   },
   "outputs": [
    {
     "name": "stdout",
     "output_type": "stream",
     "text": [
      "[ 0.          0.52631579  1.05263158  1.57894737  2.10526316  2.63157895\n",
      "  3.15789474  3.68421053  4.21052632  4.73684211  5.26315789  5.78947368\n",
      "  6.31578947  6.84210526  7.36842105  7.89473684  8.42105263  8.94736842\n",
      "  9.47368421 10.        ]\n"
     ]
    },
    {
     "data": {
      "text/plain": [
       "<Figure size 640x480 with 1 Axes>"
      ]
     },
     "metadata": {},
     "output_type": "display_data"
    }
   ],
   "source": [
    "## ndarray를 만드는 다양한 방법 - linspace\n",
    "## np.linspace(start,stop,num)\n",
    "## start부터 stop까지의 범위에서 num개를 균일한 가격으로 데이터를 생성하고 ndarray로 return\n",
    "## 데이터를 생성하고 ndarray로 return\n",
    "## 눈으로 보기 힘드니 그래프로 보아요!\n",
    "## char를 그리는 대표적인 package가 있어요 => matplotlib\n",
    "## conda install matpoltlib => 일단 설치\n",
    "\n",
    "import matplotlib.pyplot as plt\n",
    "\n",
    "arr = np.linspace(0,10,20)  # 0부터 10까지 그안의 데이터를 11개\n",
    "print(arr)\n",
    "plt.plot(arr)\n",
    "plt.show()\n",
    "\n",
    "\n",
    "\n",
    "\n"
   ]
  },
  {
   "cell_type": "code",
   "execution_count": 11,
   "metadata": {
    "scrolled": true
   },
   "outputs": [
    {
     "name": "stdout",
     "output_type": "stream",
     "text": [
      "[49.21787878 49.29302446 49.90833454 ... 53.41949545 48.90876837\n",
      " 50.26136104]\n"
     ]
    },
    {
     "data": {
      "image/png": "[encoded data removed]",
      "text/plain": [
       "<Figure size 432x288 with 1 Axes>"
      ]
     },
     "metadata": {
      "needs_background": "light"
     },
     "output_type": "display_data"
    }
   ],
   "source": [
    "### NumPy Array (ndarray)\n",
    "## 특징, 여러가지 속성들(ndim, shape, ,,.)\n",
    "## ndarray 생성방법\n",
    "\n",
    "## 난수를 이용해서 ndarray를 생성하는 방법\n",
    "## 5가지 정도가 존재\n",
    "\n",
    "## np.random.normal() : 난수를 생성해서 ndarray를 만들 수 있어요\n",
    "## ==> 정규분포 확률밀도에서 난수를 발생시켜요!\n",
    "\n",
    "import numpy as np\n",
    "import matplotlib.pyplot as plt\n",
    "\n",
    "## 평균\n",
    "myMean = 50\n",
    "\n",
    "## 표준편차\n",
    "myStd = 2\n",
    "arr = np.random.normal(myMean,myStd,(10000,))\n",
    "                                    # tuple형태로 shape뽑음\n",
    "# 난수 뽑을때 : 정규분포 or 균등분포 이용\n",
    "print(arr)\n",
    "\n",
    "# 특정 영역안에 몇번 뽑혔는지 => hist\n",
    "plt.hist(arr, bins=100)\n",
    "# 만개의 데이터\n",
    "# bins : 몇개의 구간을 이용해서\n",
    "# 최소 최대의 사이에 몇개로 구간을 나누어서 각 구간마다 데이터가 몇개있는지에 대한 분포\n",
    "plt.show()\n",
    "# 랜덤값 추출할때 막하는게 아니라 특정 분포에 따라서 달라지기 때문에\n",
    "\n",
    "\n"
   ]
  },
  {
   "cell_type": "code",
   "execution_count": 12,
   "metadata": {},
   "outputs": [
    {
     "name": "stdout",
     "output_type": "stream",
     "text": [
      "[0.3560892  0.11450502 0.17392551 ... 0.82411243 0.2518571  0.50959327]\n"
     ]
    },
    {
     "data": {
      "image/png": "[encoded data removed]",
      "text/plain": [
       "<Figure size 432x288 with 1 Axes>"
      ]
     },
     "metadata": {
      "needs_background": "light"
     },
     "output_type": "display_data"
    }
   ],
   "source": [
    "## 난수를 추출\n",
    "## [0,1) (0이상 1미만) 구간에서 균등분포 확률밀도 상에서 난수 추출\n",
    "arr = np.random.rand(10000)   # 1차원      (2,3) => 2차원\n",
    "print(arr)\n",
    "plt.hist(arr,bins=100)\n",
    "plt.show()\n",
    "\n"
   ]
  },
  {
   "cell_type": "code",
   "execution_count": 13,
   "metadata": {},
   "outputs": [
    {
     "data": {
      "image/png": "[encoded data removed]",
      "text/plain": [
       "<Figure size 432x288 with 1 Axes>"
      ]
     },
     "metadata": {
      "needs_background": "light"
     },
     "output_type": "display_data"
    }
   ],
   "source": [
    "## 난수를 추출\n",
    "## 표준정규분포 확률밀도상에서 난수 추출\n",
    "# 표준정규분포 : 평균0, 표준편차 1\n",
    "arr = np.random.randn(10000)   # (1000,2,3) 인자의 개수로 차원을 지정 / shape(x)\n",
    "plt.hist(arr,bins=100)\n",
    "plt.show()"
   ]
  },
  {
   "cell_type": "code",
   "execution_count": 14,
   "metadata": {},
   "outputs": [
    {
     "data": {
      "image/png": "[encoded data removed]",
      "text/plain": [
       "<Figure size 432x288 with 1 Axes>"
      ]
     },
     "metadata": {
      "needs_background": "light"
     },
     "output_type": "display_data"
    }
   ],
   "source": [
    "## 난수를 추출(정수를 추출)\n",
    "## 주어진 범위에서 균등분포 확률밀도상에서 난수 추출\n",
    "arr = np.random.randint(-100,100,(10000,))\n",
    "                        # 범위    # shape\n",
    "plt.hist(arr,bins=100)\n",
    "plt.show()\n",
    "# 거의 비슷하게 추출"
   ]
  },
  {
   "cell_type": "code",
   "execution_count": 15,
   "metadata": {},
   "outputs": [
    {
     "data": {
      "image/png": "[encoded data removed]",
      "text/plain": [
       "<Figure size 432x288 with 1 Axes>"
      ]
     },
     "metadata": {
      "needs_background": "light"
     },
     "output_type": "display_data"
    }
   ],
   "source": [
    "## 난수를 추출(정수를 추출)\n",
    "## [0,1)에서 균등분포 확률밀도상에서 난수 추출\n",
    "arr = np.random.random((10000,))    # shape을 줘야해\n",
    "plt.hist(arr,bins=100)\n",
    "plt.show()"
   ]
  },
  {
   "cell_type": "code",
   "execution_count": 16,
   "metadata": {},
   "outputs": [
    {
     "name": "stdout",
     "output_type": "stream",
     "text": [
      "[8 9 3 8 8]\n"
     ]
    }
   ],
   "source": [
    "## 난수는 랜덤값이기 때문에 실행할 때마다 추출되는 난수가 달라져야 해요!\n",
    "\n",
    "## 난수값도 사실은 알고리즘에 의해서 계산되는 값이예요!\n",
    "## 알고리즘의 초기값을 고정시키면 하앙 같은 난수를 얻을 수 있어요 => 재현성\n",
    "np.random.seed(3)\n",
    "arr = np.random.randint(0,10,(5,))  # 0부터 10사이, 1차원 5개\n",
    "                                   # 정수를 균등분포 추출\n",
    "print(arr)"
   ]
  },
  {
   "cell_type": "code",
   "execution_count": 23,
   "metadata": {},
   "outputs": [
    {
     "name": "stdout",
     "output_type": "stream",
     "text": [
      "<class 'numpy.ndarray'>\n",
      "[1 2 3 4]\n",
      "1\n",
      "(4,)\n",
      "[[1 2 3]\n",
      " [4 5 6]]\n",
      "[[1. 2. 3.]\n",
      " [4. 5. 6.]]\n",
      "6\n",
      "2\n"
     ]
    }
   ],
   "source": [
    "#### 2019 11 19\n",
    "## NumPy (Numerical Python)\n",
    "## ndarray라고 불리는 자료구조를 사용해요!\n",
    "\n",
    "## array : 연속적으로 할당되고(index를 쓸 수 있다) 같은 데이터 타입의 데이터를 저장할 수 있는 자료구조\n",
    "## !차원이 될수도 2차원이 될수도 3차원이 될수도...\n",
    "\n",
    "\n",
    "## 기본적으로 생성하는 방법\n",
    "import numpy as np\n",
    "\n",
    "arr = np.array([1,2,3,4])\n",
    "\n",
    "### python에서 built-in type\n",
    "### int, float, bool, str,list,tuple, dict, set\n",
    "###    => 이 data type이라고 알고 있던 것들이 실제로는 클래스로 존재\n",
    "### 실제로는 class \n",
    "## type : 어떤 클래스의 객체인지\n",
    "###    => class로 되어있어요. type()이라는 함수로 class를 알아내요\n",
    "print(type(arr))\n",
    "# numpy안에 이 클래스(ndarray)가 있는것\n",
    "print(arr)\n",
    "\n",
    "## 차원의 수\n",
    "print(arr.ndim)   # 차원의 수\n",
    "print(arr.shape)  # ndarray의 모양, 몇차원이니, 각 차원당 몇개들어가있니 \n",
    "                 # (4,) 1차원, 4개열로 구성\n",
    "\n",
    "## 2차원 이상의 ndarray를 만들려면 어떻게 해야 하나요?\n",
    "myList = [[1,2,3],[4,5,6]]    # 중첩자료구조 -> ndarray -> 1차원이 될수도, 2차원이 될수도...\n",
    "arr = np.array(myList)\n",
    "arr1 = np.array(myList, dtype = np.float64)   # 실수로 만들건지 정수로 만들걸지\n",
    "\n",
    "print(arr)\n",
    "print(arr1)    # 정수가 아닌 실수형 배열\n",
    "\n",
    "print(arr.size)     # ndarray안에 있는 모든 요소의 수\n",
    "print(len(arr))     # ndarray 1차원의 요소 개수\n",
    "\n",
    "\n",
    "\n",
    "### 다양한 생성방법\n",
    "### np.zeros(), np.ones() 내가 원하는 형태의 nparray를 만드는데 그 값들이 싹다 1로 채워짐\n",
    "## np.full(), np. empty()\n",
    "### np.arnage() : 마치 range와 유사\n",
    "            # 주어진 범위내에서 일정 간격으로 np.array를 만들어 낼 수 있다\n",
    "  # np.linspace() : 일정한 간격으로 데이터 뽑아내는것\n",
    "### random기반의 함수들 -> 4가지\n"
   ]
  },
  {
   "cell_type": "markdown",
   "metadata": {},
   "source": [
    "# Numpy 활용"
   ]
  },
  {
   "cell_type": "code",
   "execution_count": 36,
   "metadata": {},
   "outputs": [
    {
     "name": "stdout",
     "output_type": "stream",
     "text": [
      "[ 0  1  2  3  4  5  6  7  8  9 10 11]\n",
      "[[ 0  1  2]\n",
      " [ 3  4  5]\n",
      " [ 6  7  8]\n",
      " [ 9 10 11]]\n",
      "[  0 100   2   3   4   5   6   7   8   9  10  11]\n",
      "[[  0 100   2]\n",
      " [  3   4   5]\n",
      " [  6   7   8]\n",
      " [  9  10  11]]\n",
      "True\n",
      "[ True  True  True  True  True  True  True  True  True  True  True  True]\n",
      "[ 0  1  2  3  4  5  6  7  8  9 10 11]\n",
      "[[ 0  1  2  3  4  5  6  7  8  9 10 11 12 13 14 15 16 17 18 19]\n",
      " [20 21 22 23 24 25 26 27 28 29 30 31 32 33 34 35 36 37 38 39]\n",
      " [40 41 42 43 44 45 46 47 48 49 50 51 52 53 54 55 56 57 58 59]\n",
      " [60 61 62 63 64 65 66 67 68 69 70 71 72 73 74 75 76 77 78 79]\n",
      " [80 81 82 83 84 85 86 87 88 89 90 91 92 93 94 95 96 97 98 99]]\n",
      "[ 0  1  2  3  4  5  6  7  8  9 10 11 12 13 14 15 16 17 18 19 20 21 22 23\n",
      " 24 25 26 27 28 29 30 31 32 33 34 35 36 37 38 39 40 41 42 43 44 45 46 47\n",
      " 48 49 50 51 52 53 54 55 56 57 58 59 60 61 62 63 64 65 66 67 68 69 70 71\n",
      " 72 73 74 75 76 77 78 79 80 81 82 83 84 85 86 87 88 89 90 91 92 93 94 95\n",
      " 96 97 98 99]\n",
      "[0 1 2 3 4 5 6 7 8 9]\n",
      "[[0 1 2 3 4 5]\n",
      " [6 7 8 9 0 1]]\n",
      "[[0 1]\n",
      " [2 3]]\n",
      "None\n",
      "[[0 1 2]\n",
      " [3 4 5]]\n"
     ]
    }
   ],
   "source": [
    "## NumPy 활용에 대해서 알아보아요!\n",
    "## shape을 조절해서 내가 원하는 형태의 ndarray를 만들어보아요!\n",
    "import numpy as np\n",
    "\n",
    "arr = np.arange(0,12,1)\n",
    "# 일정 영역을 잡아서 순차 증감하는 순열의 조합으로 np.array를 생성\n",
    "print(arr)\n",
    "# 1차원형태의 np.array를 만드는것\n",
    "# shape을 조절하지 않고 모양을 바꿀수있다\n",
    "\n",
    "## 2차원으로 변경(3행4열로 바꿀거야)\n",
    "## reshape 을 이용하면 view가 만들어져요! (창이만들어짐)\n",
    "# 데이터를 바라보는 창을 바라보는것\n",
    "# 새로운 데이터를 만드는 것이 아니라\n",
    "# 1차원데이터를 2차원으로 바라볼 수 있는 창을 만드는것\n",
    "# 2차원 데이터로 보여지는것\n",
    "arr1 = arr.reshape(4,3) # 요소가 두개 : 2차원, 행이 4개 열이 3개\n",
    "print(arr1)\n",
    "# reshape : 내가 원하는 차원으로 바꿀 수 있다\n",
    "arr[1] = 100\n",
    "# arr의 1번째 값을 100으로 바꿀거야\n",
    "print(arr)\n",
    "print(arr1)\n",
    "## arr1을 100으로 바꾸지 않았지만 바뀌어져있음\n",
    "# 순수 파이썬은 view개념이 없어\n",
    "# reshape하는이유 : 데이터 새로 생성한다고 하면 데이터 크기너무커져\n",
    "\n",
    "# view는 base속성이 있어요!\n",
    "# view만 가지고 있어요!\n",
    "# 이 view가 어디서부터 데이터 가져오는지\n",
    "\n",
    "print(arr1.base is arr)   # 두개가 똑같은거야?\n",
    "print(arr1.base == arr)   # 각요소끼리 비교함\n",
    "## => 비교 연산자체가 달라\n",
    "\n",
    "## shape을 변경해서 새로운 ndarray를 만들고 싶어요!\n",
    "arr = np.arange(0,12,1)\n",
    "print(arr)\n",
    "\n",
    "arr1 = arr.reshape(4,3).copy()   # reshape 해서  view내용을 복사해서 새롭게 만드는것\n",
    "                                # 모양이 변경된 새로운 np.array\n",
    "                                # 새로운 ndarray를 생성\n",
    "# arr1 = arr.reshape(5,3)  # error (형태가 맞지 않아요)\n",
    "arr1 = arr.reshape(2,-1) # -1 : 설정하고 남은거 다 밀어넣어\n",
    "                         # 열은 6개\n",
    "arr1 = arr.reshape(-1,3) # 열은 3개 만들어\n",
    "                         # -1을 이용하면 계산하지 않아도 자동계산 해줘요!\n",
    "\n",
    "arr = np.arange(0,100,1).reshape(5,-1).copy()\n",
    "print(arr)\n",
    "\n",
    "# 다차원배열을 1차원으로 만들 수 있어요!\n",
    "arr1 = np.ravel(arr)\n",
    "print(arr1)\n",
    "\n",
    "# 2차원을 4차원으로 바꿀 때 => 2차원을 1차원으로바꾼다음 4차원\n",
    "\n",
    "# resize()는 reshape()과 유사\n",
    "# reshape()은 형태가 맞지 않으면 변경시 error가 발생\n",
    "# resize는 형태가 안맞아도돼\n",
    "# 하지만 resize()는 형태가 맞지 않아도 변경이 가능\n",
    "\n",
    "arr = np.arange(0,10,1)\n",
    "print(arr)\n",
    "# resize()를 이용하는 1번째 방법\n",
    "arr1 = np.resize(arr,(2,6))   # 2행 6열짜리 np.array\n",
    "                       # 변경된 ndarray를 return\n",
    "# size바꿀껀데 뒤에는 내가 어떤 형식으로 바꿀지 shape을 적어줌 (튜플로)\n",
    "print(arr1)\n",
    "# resize는 모자란것을 0으로 채움\n",
    "# 모자라는 부분은 배열의 처음부터 다시 추가\n",
    "arr2 = np.resize(arr,(2,2))  # 남은 요소는 버려요\n",
    "print(arr2)\n",
    "\n",
    "# resize()를 이용하는 2번째 방법\n",
    "# ndarray를 직접이용하는 방법\n",
    "arr = np.arange(0,10,1)\n",
    "result = arr.resize(2,3)\n",
    "# 방금꺼랑 다르다\n",
    "# 2행 3열짜리를 만들거야\n",
    "print(result)    # None\n",
    "# 원본이 원래 10개짜리였는데 바뀌게 됨\n",
    "# return을 갖느냐 원본을 갖느냐\n",
    "# arr.resize 원본을 직접 변경시킨거임\n",
    "# 원본이 변경되는가 아닌가\n",
    "# np. -> return을 받는다\n",
    "# 원본에 대해서 호출받으면 -> 원본을 받는다\n",
    "print(arr)\n",
    "\n",
    "\n",
    "\n",
    "\n"
   ]
  },
  {
   "cell_type": "markdown",
   "metadata": {},
   "source": [
    "# Numpy array 결합"
   ]
  },
  {
   "cell_type": "code",
   "execution_count": 47,
   "metadata": {
    "scrolled": true
   },
   "outputs": [
    {
     "name": "stdout",
     "output_type": "stream",
     "text": [
      "[[7 5 1]\n",
      " [2 4 8]]\n",
      "[[6 4 8 6 2]\n",
      " [6 8 9 3 4]]\n",
      "[[7 5 1 6 4 8 6 2]\n",
      " [2 4 8 6 8 9 3 4]]\n",
      "[[8 9 9]\n",
      " [7 2 0]\n",
      " [4 8 5]\n",
      " [5 1 2]\n",
      " [0 7 5]]\n"
     ]
    }
   ],
   "source": [
    "## numpy array를 가로방향으로 혹은 세로방향으로 결합\n",
    "## 2행 3열짜리 ndarray를 생성\n",
    "\n",
    "## 정수로 생성, 랜덤하게 균등분포로 0~10사이에서 추출\n",
    "## 10개를 추출해서 1차원 ndarray로 생성\n",
    "np.random.seed(1111)\n",
    "arr1 = np.random.randint(0,10,(2,3))\n",
    "print(arr1)\n",
    "\n",
    "## 가로방향으로 결합\n",
    "## 행의 개수가 같아야 해요! 열의 개수는 상관없어요\n",
    "arr2 = np.random.randint(0,10,(2,5))\n",
    "print(arr2)\n",
    "result = np.hstack((arr1,arr2))  # tuple인자가 한개 와야해\n",
    "print(result)\n",
    "\n",
    "## 세로방향으로 결합\n",
    "## 열의 개수사 같아야 해요! 행의 개수는 상관없어요!\n",
    "arr1 = np.random.randint(0,10,(2,3))\n",
    "arr2 = np.random.randint(0,10,(3,3))\n",
    "result = np.vstack((arr1,arr2))\n",
    "print(result)\n",
    "# 5행 3열\n",
    "\n",
    "#######################################\n",
    "# ndarray 생성, 특징\n",
    "# reshape, resize (내가 원하는 모양으로 형태로 차원으로 바꿔줄 수 있다) but, view의 개념\n",
    "        # => 메모리를 효율적으로 사용하기 위해서\n",
    "# 여러개의 ndarray를 결합할 수 있어요!\n",
    "# 이제 indexing과 slicing에 대한 얘기만 하면 되요!\n"
   ]
  },
  {
   "cell_type": "markdown",
   "metadata": {},
   "source": [
    "# NumPy array의 indexing과 slicing\n"
   ]
  },
  {
   "cell_type": "code",
   "execution_count": 67,
   "metadata": {
    "collapsed": true
   },
   "outputs": [
    {
     "name": "stdout",
     "output_type": "stream",
     "text": [
      "[10 11 12 13 14 15 16 17 18 19]\n",
      "data : 10\n",
      "data : 11\n",
      "data : 12\n",
      "data : 13\n",
      "data : 14\n",
      "data : 15\n",
      "data : 16\n",
      "data : 17\n",
      "data : 18\n",
      "data : 19\n",
      "index : 0, data : 10\n",
      "index : 1, data : 11\n",
      "index : 2, data : 12\n",
      "index : 3, data : 13\n",
      "index : 4, data : 14\n",
      "index : 5, data : 15\n",
      "index : 6, data : 16\n",
      "index : 7, data : 17\n",
      "index : 8, data : 18\n",
      "index : 9, data : 19\n",
      "[0 1 2 3 4]\n",
      "2\n",
      "[1 2]\n",
      "[0 1 2]\n",
      "[2 3 4]\n",
      "[1 3]\n",
      "[4]\n",
      "[[ 0  1  2  3]\n",
      " [ 4  5  6  7]\n",
      " [ 8  9 10 11]]\n",
      "6\n",
      "[0 4 8]\n",
      "[[0]\n",
      " [4]\n",
      " [8]]\n",
      "[ 5  6  9 10]\n"
     ]
    }
   ],
   "source": [
    "arr = np.arange(10,20,1)\n",
    "print(arr)\n",
    "\n",
    "for i in arr :      # data만 추출해서 사용하는 for\n",
    "    print(\"data : {}\".format(i))\n",
    "\n",
    "    \n",
    "for idx,data in enumerate(arr):\n",
    "    print(\"index : {}, data : {}\".format(idx,data))\n",
    "    \n",
    "arr = np.arange(0,5,1)\n",
    "print(arr)\n",
    "print(arr[2])    # indexing\n",
    "print(arr[1:3])  # slicing [1 2]\n",
    "print(arr[:3])   # slicing [0 1 2]\n",
    "print(arr[2:])   # slicing [2 3 4]\n",
    "print(arr[1::2])   # slicing [1 3]\n",
    "print(arr[-1:])   # slicing 맨 마지막 요소만 슬라이싱 할꺼예요\n",
    "                # nparray형으로 출력됨\n",
    "\n",
    "arr = np.arange(0,12,1).reshape(3,4).copy()\n",
    "print(arr)\n",
    "# 6가져오려해 => indexing\n",
    "print(arr[1,2])    # indexing\n",
    "print(arr[:,0])    # 앞은 slicing, 뒤는 indexing\n",
    "                   #[2 3 4]\n",
    "# 여러개니까 일차원으로 표현\n",
    "print(arr[:,0:1])  # 앞 numpy, 뒤도 numpyarray\n",
    "# 내가 원하는 영역을 추출 => 형태그대로이므로 2차원으로 추출함\n",
    "\n",
    "# indexing : 값으로\n",
    "# slicing : 차원으로\n",
    "\n",
    "# [ 5 6 9 10] 만들려면\n",
    "print(arr[1:3,1:3].ravel())\n",
    "# 2차원형태로 뽑은다음 1차원으로 바꿔줌"
   ]
  },
  {
   "cell_type": "markdown",
   "metadata": {},
   "source": [
    "## Boolean Indexing & Fancy Indexing\n"
   ]
  },
  {
   "cell_type": "code",
   "execution_count": 76,
   "metadata": {},
   "outputs": [
    {
     "name": "stdout",
     "output_type": "stream",
     "text": [
      "[5 8 9 5 0 0 1 7 6 9]\n",
      "[8 0 0 6]\n",
      "[1 0 1 1 0 0 1 1 0 1]\n",
      "[False  True False False  True  True False False  True False]\n",
      "[False  True False False  True  True False False  True False]\n",
      "[[5 8 9 5 0 0 1 7 6 9]]\n"
     ]
    }
   ],
   "source": [
    "# boolean indexing 은 mask를 이용해서 배열의 각 요소의 선택여부를 True, False로 지정해서 True요소만 선택하는 방식\n",
    "# 내가 적용하려는 ndarray의 크기와\n",
    "\n",
    "# 정수형 난수를 추출해보아요!\n",
    "# 0부터 9까지 정수형 난수를 1차원으로 10개 균등분포를 이용하여 추출\n",
    "# 매번 달라지니 seed잡고 가\n",
    "np.random.seed(1)\n",
    "arr = np.random.randint(0,10,(10,))\n",
    "print(arr)\n",
    "\n",
    "## 여기에서 짝수만 추출할 거에요!\n",
    "result = list()\n",
    "for i in arr:\n",
    "    if i % 2 == 0:\n",
    "        result.append(i)\n",
    "result = np.array(result)\n",
    "print(result)\n",
    "\n",
    "# arr = [5 8 9 5 0 0 1 7 6 9]\n",
    "## 1. 조건에 맞는 mask를 만들어요!\n",
    "# 마스크 리스트라고 보면되고 안에 t,f가 들어가있어\n",
    "print(arr % 2)\n",
    "print(arr % 2 == 0)\n",
    "# arr -> vector로 각요소를 하나하나씩 다 해본다\n",
    "# mask = [False  True False False  True  True False False  True False]\n",
    "# 각각의 위치에 F버리고 T만 골라\n",
    "\n",
    "# indexing방법으로 mask를 이용해야해\n",
    "print(arr[print(arr % 2 == 0)])\n",
    "# 원래 숫자들어가야하는데 mask를 넣는것\n",
    "# mask넣으면 해당 nparray에 일치 시켜서 본다\n",
    "# 루프안돌고 한줄에 해결가능\n",
    "# 수행속도 빠르다\n"
   ]
  },
  {
   "cell_type": "code",
   "execution_count": null,
   "metadata": {},
   "outputs": [],
   "source": []
  },
  {
   "cell_type": "markdown",
   "metadata": {},
   "source": [
    "# Fancy Indexing"
   ]
  },
  {
   "cell_type": "code",
   "execution_count": null,
   "metadata": {},
   "outputs": [],
   "source": [
    "\n",
    "# indexing을 할 때 배열을 이용해서 배열 요소를 찾는 방식\n",
    "\n",
    "arr = np.arange(0,12,1).reshape(3,4).copy()\n",
    "print(arr)\n",
    "\n",
    "# print(arr[2,2])  # 10\n",
    "# print(arr[1:2,2]) # [6]\n",
    "\n",
    "# print(arr[[0,2],2]) # [2 10]\n",
    "# print(arr[[0,2],1:]) # [[ 1  2  3]\n",
    "#                      #  [ 9 10 11]]\n",
    "# print(arr[:,[0,2]])  #    \n",
    "# print(arr[[1,2],[1,2]]) # ???? 조심\n",
    "\n",
    "# 방법1\n",
    "# print(arr[[1,2]][:,[1,2]])\n",
    "# 방법2\n",
    "print(arr[np.ix_([1,2],[1,2])])"
   ]
  }
 ],
 "metadata": {
  "kernelspec": {
   "display_name": "[CPU_ENV]",
   "language": "python",
   "name": "cpu_env"
  },
  "language_info": {
   "codemirror_mode": {
    "name": "ipython",
    "version": 3
   },
   "file_extension": ".py",
   "mimetype": "text/x-python",
   "name": "python",
   "nbconvert_exporter": "python",
   "pygments_lexer": "ipython3",
   "version": "3.6.9"
  }
 },
 "nbformat": 4,
 "nbformat_minor": 2
}
