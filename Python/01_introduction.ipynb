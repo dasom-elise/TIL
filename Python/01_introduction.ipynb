{
 "cells": [
  {
   "cell_type": "code",
   "execution_count": null,
   "metadata": {},
   "outputs": [],
   "source": [
    "# 한줄주석이예요.. \n",
    "# 여러줄 주석은 \"\"\" \"\"\" 혹은 ''' ''' 로 표현되요!\n",
    "'''\n",
    "python의 장점\n",
    "- 상대적으로 쉬운 언어\n",
    "- 강력한 데이터 분석 library(현재 가장인기가 좋아요!)\n",
    "- Open Source\n",
    "- R에 비해서 범용적인 사용이 가능\n",
    "- 데이터 분석 결과를 다른 시스템과 연동시킬때 좋아요!\n",
    "- 하위 호환성은 없어요( 2.x버전과 3.x버전이 달라요!)\n",
    "- PyCharm 혹은 jupyter notebook으로 작업해요!\n",
    "'''"
   ]
  },
  {
   "cell_type": "code",
   "execution_count": 7,
   "metadata": {},
   "outputs": [
    {
     "name": "stdout",
     "output_type": "stream",
     "text": [
      "['False', 'None', 'True', 'and', 'as', 'assert', 'break', 'class', 'continue', 'def', 'del', 'elif', 'else', 'except', 'finally', 'for', 'from', 'global', 'if', 'import', 'in', 'is', 'lambda', 'nonlocal', 'not', 'or', 'pass', 'raise', 'return', 'try', 'while', 'with', 'yield']\n"
     ]
    }
   ],
   "source": [
    "# python의 keyword\n",
    "\n",
    "# keyword module을 로딩해야 해요!\n",
    "import keyword\n",
    "\n",
    "# output영역에 출력할 때 사용하는 함수 : print()\n",
    "print(keyword.kwlist)\n",
    "\n",
    "# jupyter notebook hotkey(단축키)\n",
    "# L : 라인번호 toggle\n",
    "# O : output창을 toggle\n",
    "# A : 위쪽 영역에 cell 삽입\n",
    "# B : 아래쪽 영역에 cell 삽입\n",
    "# D,D : 현재 cell을 삭제\n",
    "# Control + Enter : 현재 cell 실행\n",
    "# Alt + Enter : 현재 cell 실행, \n",
    "#               아래쪽에 cell 삽입\n",
    "# Shift + Enter : 현재 cell 실행\n",
    "#               아래쪽 cell 선택\n"
   ]
  },
  {
   "cell_type": "code",
   "execution_count": 14,
   "metadata": {
    "scrolled": true
   },
   "outputs": [
    {
     "name": "stdout",
     "output_type": "stream",
     "text": [
      "100\n",
      "var2의 값은 :  200\n"
     ]
    }
   ],
   "source": [
    "## 변수를 생성하고 삭제해 보아요!\n",
    "\n",
    "var1 = 100      # ;은 생략이 가능.\n",
    "var2 = 200\n",
    "print(var1)     # output에 출력할 때 print()를 이용\n",
    "print(\"var2의 값은 : \", var2) # 인자를 여러개 줄 수\n",
    "# 있어요.. 여러개의 인자를 하나씩 출력해요!!\n",
    "del var2;    # var2를 메모리에서 삭제\n",
    "# print(\"var2의 값은 : \", var2)"
   ]
  }
 ],
 "metadata": {
  "kernelspec": {
   "display_name": "[CPU_ENV]",
   "language": "python",
   "name": "cpu_env"
  },
  "language_info": {
   "codemirror_mode": {
    "name": "ipython",
    "version": 3
   },
   "file_extension": ".py",
   "mimetype": "text/x-python",
   "name": "python",
   "nbconvert_exporter": "python",
   "pygments_lexer": "ipython3",
   "version": "3.6.9"
  }
 },
 "nbformat": 4,
 "nbformat_minor": 2
}
