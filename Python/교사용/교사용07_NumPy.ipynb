{
 "cells": [
  {
   "cell_type": "code",
   "execution_count": null,
   "metadata": {},
   "outputs": [],
   "source": [
    "## NumPy (Numerical Python)\n",
    "## 수학적 계산을 할때, 수치연산을 할때 사용되요.\n",
    "## 마치 R의 Vector를 사용하는 것처럼 NumPy를 이용할 수 있어요!\n",
    "## Vector연산, Matrix연산을 빠르고 효율적으로 처리할 수 있어요\n",
    "\n",
    "## Pandas, Matplotlib의 기본 module이 NumPy\n",
    "\n",
    "## NumPy module은 ndarray(n-dimensional array)라고 불리는\n",
    "## 자료구조를 이용해요. => R에서 Vector와 유사\n",
    "## R의 vector자료구조는 같은 데이터 타입을 저장하는 자료구조\n",
    "## ndarray도 같은 데이터 타입만 저장이 가능\n",
    "\n",
    "## NumPy의 ndarray를 이용하려면 NumPy module이 설치되어\n",
    "## 있어야 해요!"
   ]
  },
  {
   "cell_type": "code",
   "execution_count": 15,
   "metadata": {},
   "outputs": [
    {
     "name": "stdout",
     "output_type": "stream",
     "text": [
      "list => [1, 2, 3, 4], type => <class 'list'>\n",
      "list[0] => 1, type => <class 'int'>\n",
      "ndarray => [1 2 3 4]\n",
      "ndarray type => <class 'numpy.ndarray'>\n",
      "ndarray dtype => int32\n",
      "['100' 'Hello' '3.14']\n",
      "<U11\n",
      "<class 'numpy.str_'>\n"
     ]
    }
   ],
   "source": [
    "## module을 설치할 때 conda 명령을 이용해서 설치\n",
    "## python은 pip를 이용해서 module을 설치\n",
    "## conda install numpy\n",
    "import numpy as np\n",
    "\n",
    "## ndarray를 생성하고 data type을 살펴보아요!\n",
    "\n",
    "## python list\n",
    "a = [1,2,3,4]\n",
    "print(\"list => {}, type => {}\".format(a,type(a)))\n",
    "print(\"list[0] => {}, type => {}\".format(a[0], type(a[0])))\n",
    "\n",
    "## NumPy ndarray\n",
    "b = np.array([1,2,3,4])\n",
    "print(\"ndarray => {}\".format(b))\n",
    "print(\"ndarray type => {}\".format(type(b)))\n",
    "print(\"ndarray dtype => {}\".format(b.dtype))\n",
    "## int32 => 정수형이고 32bit로 구성되어 있어요!\n",
    "## 2진수로 32개의 비트로 표현할 수 있는 최대 수\n",
    "## 2진수 1개로 표현할 수 있는 수는 2 => 2 ** 1\n",
    "## 2진수 2개로 표현할 수 있는 수는 4 => 2 ** 2\n",
    "## 2진수 3개로 표현할 수 있는 수는 8 => 2 ** 3\n",
    "## 2진수 32개로 표현할 수 있는 수는 ? => 2 ** 32\n",
    "## int64를 이용하면 더 큰수를 표현할 수 있어요!\n",
    "## 2진수 64개로 표현할 수 있는 수는 ? => 2 ** 64\n",
    "\n",
    "## ndarray를 만드는 가장 간단한 방법 => \n",
    "## numpy가 제공하는 array()함수 이용\n",
    "c = np.array([100,\"Hello\",3.14])\n",
    "print(c)  # 모두 같은 data type이 되어야 해요!\n",
    "print(c.dtype)\n",
    "print(type(c[0]))"
   ]
  },
  {
   "cell_type": "code",
   "execution_count": 25,
   "metadata": {},
   "outputs": [
    {
     "name": "stdout",
     "output_type": "stream",
     "text": [
      "1\n",
      "int32\n",
      "float64\n",
      "[[1. 2. 3.]\n",
      " [4. 5. 6.]]\n"
     ]
    }
   ],
   "source": [
    "## 다차원 numpy array를 만들어보아요!\n",
    "#myList = [(1,2,3),(4,5,6)]\n",
    "myList = [[1,2,3],[4,5,6]]\n",
    "arr = np.array(myList)   # 2차원의 ndarray\n",
    "## 1행 2열의 값은 얼마인가요? => 6\n",
    "print(arr[0,0]) # arr[1][2] 이형태로 쓰지 않아요!\n",
    "## index의 시작은 0부터 시작해요!!\n",
    "## n차원의 ndarray가 어떻게 표현되는지 확인해야 해요!\n",
    "## 기본 데이터타입은 정수일 경우 int32로 사용되요!\n",
    "print(arr.dtype)\n",
    "## 만약 데이터타입을 지정하려면\n",
    "#arr = np.array(myList, dtype=\"int64\") # 그다지 좋지 않아요!\n",
    "arr = np.array(myList, dtype=np.float64) # 이렇게 사용해요!\n",
    "print(arr.dtype)\n",
    "print(arr)"
   ]
  },
  {
   "cell_type": "code",
   "execution_count": 33,
   "metadata": {
    "scrolled": true
   },
   "outputs": [
    {
     "name": "stdout",
     "output_type": "stream",
     "text": [
      "2\n",
      "[[1 2 3]\n",
      " [4 5 6]]\n",
      "(2, 3)\n"
     ]
    }
   ],
   "source": [
    "## 차원의 개수와 크기\n",
    "#myList = [1,2,3,4]\n",
    "myList = [[1,2,3],[4,5,6]]\n",
    "#myList = [[1,2],[3,4],[5,6],[7,8]]\n",
    "#myList = [[[1,2],[3,4]],[[5,6],[7,8]]]\n",
    "arr = np.array(myList)  # python list를 이용해서 numpy array생성\n",
    "## 이렇게 numpy array를 생성하면 차원의 개수를 알 수 있어요!\n",
    "print(arr.ndim)  # 차원의 개수를 알려주는 속성\n",
    "## 차원의 개수와 원소 개수를 동시에 알려주는 속성\n",
    "print(arr)\n",
    "print(arr.shape)\n",
    "## 1차원 => 열\n",
    "## 2차원 => 행,열\n",
    "## 3차원 => 면,행,열"
   ]
  },
  {
   "cell_type": "code",
   "execution_count": 45,
   "metadata": {},
   "outputs": [
    {
     "name": "stdout",
     "output_type": "stream",
     "text": [
      "ndarray의 차원의 수는 : 1\n",
      "ndarray의 shape : (12,)\n",
      "ndarray의 요소개수 : 12\n",
      "ndarray의 len() : 12\n",
      "[[[ 1  2  3]\n",
      "  [ 4  5  6]]\n",
      "\n",
      " [[ 7  8  9]\n",
      "  [10 11 12]]]\n"
     ]
    }
   ],
   "source": [
    "# numpy array 차원 제어\n",
    "\n",
    "myList = [1,2,3,4,5,6,7,8,9,10,11,12]\n",
    "#myList = [[1,2,3],[4,5,6]]\n",
    "arr = np.array(myList) # numpy array 생성(ndarray)\n",
    "# 차원의 수를 알아보아요!\n",
    "print(\"ndarray의 차원의 수는 : {}\".format(arr.ndim))\n",
    "# 차원의 수와 각 차원의 원소의 개수\n",
    "print(\"ndarray의 shape : {}\".format(arr.shape))\n",
    "# ndarray의 차원에 상관없이 모든 요소의 개수\n",
    "print(\"ndarray의 요소개수 : {}\".format(arr.size))\n",
    "# python의 len()함수는 ndarray에 대해 적용하면\n",
    "# 1차원의 요소개수를 리턴\n",
    "print(\"ndarray의 len() : {}\".format(len(arr)))\n",
    "\n",
    "# shape을 변경할 수 있어요!\n",
    "arr.shape = 2,2,3   # tuple은 ()를 생략할 수 있어요!\n",
    "print(arr)\n",
    "\n",
    "## 이렇게 shape을 변경할 수 있는데 \n",
    "## arr.shape 을 직접 바꾸는 방식은 잘 사용되지 않아요!\n",
    "## 다른 방식이 있어요! reshape() 함수를 이용해요!"
   ]
  },
  {
   "cell_type": "code",
   "execution_count": 48,
   "metadata": {},
   "outputs": [
    {
     "name": "stdout",
     "output_type": "stream",
     "text": [
      "dtype : float64\n",
      "[ 1.1   3.14  2.   44.    3.99]\n",
      "[ 1  3  2 44  3]\n"
     ]
    }
   ],
   "source": [
    "## numpy array의 type 변경\n",
    "arr = np.array([1.1, 3.14, 2, 44.0, 3.99])\n",
    "print(\"dtype : {}\".format(arr.dtype))\n",
    "print(arr)\n",
    "\n",
    "## ndarray의 데이터 타입을 다른 형식으로 변경할 수 있어요!\n",
    "int_arr = arr.astype(np.int32)\n",
    "print(int_arr)   # 실수를 정수로 변환할 때 소수점이하 버림처리"
   ]
  },
  {
   "cell_type": "code",
   "execution_count": 63,
   "metadata": {
    "scrolled": true
   },
   "outputs": [
    {
     "name": "stdout",
     "output_type": "stream",
     "text": [
      "[[1 2 3]\n",
      " [4 5 6]]\n",
      "[[1. 1. 1.]\n",
      " [1. 1. 1.]]\n"
     ]
    }
   ],
   "source": [
    "### numpy array를 생성하는 다양한 방법\n",
    "arr = np.array([1,2,3,4]) # 리스트를 이용해서 ndarray를 생성\n",
    "\n",
    "## 모든 원소의 값이 0인 ndarray를 원하는 shape으로 생성\n",
    "arr = np.zeros((3,4))  # (3,4) shape형태로 원소의 값이 0인 \n",
    "                       # ndarray를 생성\n",
    "#print(arr)    \n",
    "## 모든 원소의 값이 1인 ndarray를 원하는 shape으로 생성\n",
    "arr = np.ones((2,4), dtype=np.int32)\n",
    "#print(arr)\n",
    "## numpy array의 공간만 확보할 수 있어요!\n",
    "## 초기화를 하지 않아요!\n",
    "arr = np.empty((5,7))\n",
    "#print(arr)\n",
    "## ones나 zeros는 초기화 작업이 추가적으로 진행\n",
    "## array의 크기가 커지면 속도가 저하.\n",
    "arr = np.full((3,4),9.0)  # 임의이 값으로 초기화를 진행\n",
    "## print(arr)\n",
    "\n",
    "arr = np.array([(1,2,3),(4,5,6)])  # 2행3열짜리 ndarray\n",
    "print(arr)\n",
    "\n",
    "# 위에서 설명한 ones,zeros,full,empty와 같은 역할을 하면서\n",
    "# shape이 지정한 array와 같도록 만드는 함수\n",
    "arr_like = np.ones_like(arr, dtype=np.float64)\n",
    "print(arr_like)"
   ]
  },
  {
   "cell_type": "code",
   "execution_count": 67,
   "metadata": {},
   "outputs": [
    {
     "name": "stdout",
     "output_type": "stream",
     "text": [
      "[0.1 1.1 2.1 3.1 4.1 5.1]\n"
     ]
    }
   ],
   "source": [
    "## ndarray를 만드는 다양한 방법 - arange\n",
    "## python의 range()와 유사한 기능을 해요!\n",
    "\n",
    "#arr = np.arange(0,10,2)  # 0은 포함, 10은 불포함, 2씩 증가\n",
    "#arr = np.arange(10)  # 0부터 시작, 10은 불포함, 1씩 증가\n",
    "arr = np.arange(0.1,5.3) # 0.1부터 시작, 5.3은 불포함, 1씩증가\n",
    "print(arr)"
   ]
  },
  {
   "cell_type": "code",
   "execution_count": 74,
   "metadata": {
    "scrolled": false
   },
   "outputs": [
    {
     "data": {
      "image/png": "[encoded data removed]",
      "text/plain": [
       "<Figure size 432x288 with 1 Axes>"
      ]
     },
     "metadata": {
      "needs_background": "light"
     },
     "output_type": "display_data"
    }
   ],
   "source": [
    "## ndarray를 만드는 다양한 방법 - linspace\n",
    "## np.linspace(start,stop,num)\n",
    "## start부터 stop까지의 범위에서 num개를 균일한 간격으로 \n",
    "## 데이터를 생성하고 ndarray로 return\n",
    "## 눈으로 보기 힘드니 그래프로 보아요!!\n",
    "## char를 그리는 대표적인 pakcage가 있어요 => matplotlib\n",
    "## conda install matplotlib   => 일단 설치\n",
    "\n",
    "import matplotlib.pyplot as plt\n",
    "arr = np.linspace(0,10,100)\n",
    "#print(arr)\n",
    "plt.plot(arr)\n",
    "plt.show()"
   ]
  },
  {
   "cell_type": "code",
   "execution_count": 77,
   "metadata": {},
   "outputs": [
    {
     "data": {
      "image/png": "[encoded data removed]",
      "text/plain": [
       "<Figure size 432x288 with 1 Axes>"
      ]
     },
     "metadata": {
      "needs_background": "light"
     },
     "output_type": "display_data"
    }
   ],
   "source": [
    "## NumPy Array (ndarray)\n",
    "## 특징, 여러가지 속성들(ndim, shape, ..)\n",
    "## ndarray 생성방법\n",
    "\n",
    "## 난수를 이용해서 ndarray를 생성하는 방법\n",
    "## 5가지 정도가 존재\n",
    "\n",
    "## np.random.normal() : 난수를 생성해서 ndarray를 만들 수 있어요\n",
    "## ==> 정규분포 확률밀도에서 난수를 발생시켜요!\n",
    "import numpy as np\n",
    "import matplotlib.pyplot as plt\n",
    "\n",
    "## 평균\n",
    "myMean = 50\n",
    "## 표준편차\n",
    "myStd = 2\n",
    "arr = np.random.normal(myMean,myStd,(10000,))  # shape을 이용\n",
    "plt.hist(arr,bins=100)\n",
    "plt.show()"
   ]
  },
  {
   "cell_type": "code",
   "execution_count": 80,
   "metadata": {},
   "outputs": [
    {
     "data": {
      "image/png": "[encoded data removed]",
      "text/plain": [
       "<Figure size 432x288 with 1 Axes>"
      ]
     },
     "metadata": {
      "needs_background": "light"
     },
     "output_type": "display_data"
    }
   ],
   "source": [
    "## 난수를 추출\n",
    "## [0,1) 구간에서 균등분포 확률밀도상에서 난수 추출\n",
    "\n",
    "arr = np.random.rand(10000)  # 1차원 (2,3) => 2차원\n",
    "plt.hist(arr,bins=100)\n",
    "plt.show()\n"
   ]
  },
  {
   "cell_type": "code",
   "execution_count": 81,
   "metadata": {},
   "outputs": [
    {
     "data": {
      "image/png": "[encoded data removed]",
      "text/plain": [
       "<Figure size 432x288 with 1 Axes>"
      ]
     },
     "metadata": {
      "needs_background": "light"
     },
     "output_type": "display_data"
    }
   ],
   "source": [
    "## 난수를 추출\n",
    "## 표준정규분포 확률밀도상에서 난수 추출\n",
    "arr = np.random.randn(10000)   # 인자의 개수로 차원을 지정\n",
    "plt.hist(arr,bins=100)\n",
    "plt.show()"
   ]
  },
  {
   "cell_type": "code",
   "execution_count": 89,
   "metadata": {
    "scrolled": true
   },
   "outputs": [
    {
     "data": {
      "image/png": "[encoded data removed]",
      "text/plain": [
       "<Figure size 432x288 with 1 Axes>"
      ]
     },
     "metadata": {
      "needs_background": "light"
     },
     "output_type": "display_data"
    }
   ],
   "source": [
    "## 난수를 추출(정수를 추출)\n",
    "## 주어진 범위에서 균등분포 확률밀도상에서 난수 추출\n",
    "arr = np.random.randint(-100,100,(10000,))\n",
    "plt.hist(arr,bins=100)\n",
    "plt.show()"
   ]
  },
  {
   "cell_type": "code",
   "execution_count": 90,
   "metadata": {
    "scrolled": false
   },
   "outputs": [
    {
     "data": {
      "image/png": "[encoded data removed]",
      "text/plain": [
       "<Figure size 432x288 with 1 Axes>"
      ]
     },
     "metadata": {
      "needs_background": "light"
     },
     "output_type": "display_data"
    }
   ],
   "source": [
    "## 난수를 추출(실수를 추출)\n",
    "## [0,1)에서 균등분포 확률밀도상에서 난수 추출\n",
    "arr = np.random.random((10000,))  # shape을 줘야 해요!\n",
    "plt.hist(arr,bins=100)\n",
    "plt.show()\n"
   ]
  },
  {
   "cell_type": "code",
   "execution_count": 147,
   "metadata": {},
   "outputs": [
    {
     "name": "stdout",
     "output_type": "stream",
     "text": [
      "[3 7 7 0 1]\n"
     ]
    }
   ],
   "source": [
    "## 난수는 랜덤값이기 때문에 실행할 때마다\n",
    "## 추출되는 난수가 달라져야 해요!\n",
    "\n",
    "## 난수값도 사실은 알고리즘에 의해서 계산되는 값이예요!\n",
    "## 알고리즘의 초기값을 고정시키면 항상 같은 난수를 얻을\n",
    "## 수 있어요 => 재현성\n",
    "\n",
    "np.random.seed(1000)\n",
    "arr = np.random.randint(0,10,(5,)) # 0부터 10사이, 1차원 5개 \n",
    "                                   # 정수를 균등분포 추출\n",
    "print(arr)"
   ]
  },
  {
   "cell_type": "code",
   "execution_count": 9,
   "metadata": {
    "scrolled": true
   },
   "outputs": [
    {
     "name": "stdout",
     "output_type": "stream",
     "text": [
      "<class 'numpy.ndarray'>\n",
      "[1 2 3 4]\n",
      "1\n",
      "(4,)\n",
      "[[1 2 3]\n",
      " [4 5 6]]\n",
      "6\n",
      "2\n",
      "[[1. 2. 3.]\n",
      " [4. 5. 6.]]\n"
     ]
    }
   ],
   "source": [
    "### 11월 19일 \n",
    "### NumPy (Numerical Python)\n",
    "### ndarray라고 불리는 자료구조를 사용해요!\n",
    "\n",
    "### array : 연속적으로 할당되고 같은 데이터타입의 데이터를\n",
    "###         저장할 수 있는 자료구조 (배열)\n",
    "\n",
    "### 기본적으로 생성하는 방법\n",
    "import numpy as np\n",
    "\n",
    "arr = np.array([1,2,3,4])\n",
    "### python에서 built-in type\n",
    "### int, float, bool, str, list, tuple, dict, set\n",
    "### => 이 data type이라고 알고 있던 것들이 실제로는\n",
    "### => class로 되어있어요. type()이라는 함수로 class를 알아내요\n",
    "print(type(arr))\n",
    "print(arr)\n",
    "print(arr.ndim)  ## 차원의 수 \n",
    "print(arr.shape) ## (4,)\n",
    "\n",
    "## 2차원 이상의 ndarray를 만들려면 어떻게 해야 하나요?\n",
    "\n",
    "myList = [[1,2,3],[4,5,6]]\n",
    "arr = np.array(myList)\n",
    "print(arr)\n",
    "\n",
    "print(arr.size)  # ndarray안에있는 모든 요소의 수\n",
    "print(len(arr))  # ndarray 1차원의 요소 개수\n",
    "\n",
    "\n",
    "myList = [[1,2,3],[4,5,6]]\n",
    "arr = np.array(myList, dtype=np.float64)\n",
    "print(arr)\n",
    "\n",
    "### 다양한 생성방법\n",
    "### np.zeros(), np.ones(), np.full(), np.empty()\n",
    "### np.arange(), np.linspace()\n",
    "### random기반의 함수들 -> 4가지"
   ]
  },
  {
   "cell_type": "code",
   "execution_count": 52,
   "metadata": {
    "scrolled": false
   },
   "outputs": [
    {
     "name": "stdout",
     "output_type": "stream",
     "text": [
      "[0 1 2 3 4 5 6 7 8 9]\n",
      "[[0 1]\n",
      " [2 3]]\n",
      "[  0 100   2   3   4   5   6   7   8   9]\n",
      "[[0 1]\n",
      " [2 3]]\n"
     ]
    }
   ],
   "source": [
    "## NumPy 활용에 대해서 알아보아요!!\n",
    "## shape을 조절해서 내가 원하는 형태의 ndarray를\n",
    "## 만들어 보아요!\n",
    "import numpy as np\n",
    "\n",
    "# arr = np.arange(0,12,1)\n",
    "# print(arr)\n",
    "## 2차원으로 변경 (4행 3열 2차원으로 변경)\n",
    "## reshape을 이용하면 view가 만들어져요!\n",
    "# arr1 = arr.reshape(4,3)\n",
    "# print(arr1)\n",
    "\n",
    "# arr[1] = 100\n",
    "# print(arr)\n",
    "# print(arr1)\n",
    "# view는 base속성이 있어요!\n",
    "# print(arr1.base is arr)\n",
    "\n",
    "## shape을 변경해서 새로운 ndarray를 만들고 싶어요!\n",
    "# arr = np.arange(0,12,1)\n",
    "# print(arr)\n",
    "\n",
    "# arr1 = arr.reshape(4,3).copy() # 새로운 ndarray를 생성\n",
    "\n",
    "#arr1 = arr.reshape(5,3) # error (형태가 맞지 않아요!)\n",
    "# arr1 = arr.reshape(-1,3) # -1을 이용하면 계산하지 않아도 자동계산을\n",
    "                         # 해 줘요!\n",
    "\n",
    "# arr = np.arange(0,100,1).reshape(5,-1).copy()    \n",
    "# print(arr)\n",
    "# 다차원배열을 1차원으로 만들 수 있어요!\n",
    "# arr1 = np.ravel(arr)\n",
    "# print(arr1)\n",
    "\n",
    "## resize()는 reshape()과 유사\n",
    "## reshape()은 형태가 맞지 않으면 변경시 error가 발생\n",
    "## 하지만 resize()는 형태가 맞지 않아도 변경이 가능\n",
    "\n",
    "# arr = np.arange(0,10,1)\n",
    "# print(arr)\n",
    "# resize()를 이용하는 1번째 방법\n",
    "# arr1 = np.resize(arr,(2,7))  # 변경된 ndarray를 return\n",
    "# print(arr1)                  # 모자라는 부분은 배열의 처음부터\n",
    "#                              # 다시 추가\n",
    "arr = np.arange(0,10,1)\n",
    "print(arr)\n",
    "arr2 = np.resize(arr,(2,2))  # 남는 요소는 버려요!\n",
    "print(arr2)\n",
    "arr[1] = 100\n",
    "print(arr)\n",
    "print(arr2)\n",
    "# print(arr2)\n",
    "# resize()를 이용하는 2번째 방법\n",
    "# ndarray를 직접이용하는 방법\n",
    "# arr = np.arange(0,10,1)\n",
    "# result = arr.resize(2,3)  # 원본이 바뀌고 return되지 않아요!\n",
    "# print(arr)\n",
    "\n"
   ]
  },
  {
   "cell_type": "code",
   "execution_count": 48,
   "metadata": {},
   "outputs": [
    {
     "name": "stdout",
     "output_type": "stream",
     "text": [
      "[[7 5 1]\n",
      " [2 4 8]]\n",
      "[[6 4 8 6 2]\n",
      " [6 8 9 3 4]]\n",
      "[[7 5 1 6 4 8 6 2]\n",
      " [2 4 8 6 8 9 3 4]]\n",
      "[[8 9 9]\n",
      " [7 2 0]\n",
      " [4 8 5]\n",
      " [5 1 2]\n",
      " [0 7 5]]\n"
     ]
    }
   ],
   "source": [
    "## numpy array를 가로방향으로 혹은 세로방향으로 결합\n",
    "## 2행 3열짜리 ndarray를 생성\n",
    "\n",
    "## 정수로 생성, 랜덤하게 균등분포로 0~10사이에서 추출\n",
    "## 6개를 추출해서 2차원 ndarray로 생성\n",
    "np.random.seed(1111)\n",
    "arr1 = np.random.randint(0,10,(2,3))\n",
    "print(arr1)\n",
    "\n",
    "## 가로방향으로 결합\n",
    "## 행의개수가 같아야 해요!열의 개수는 상관없어요!\n",
    "arr2 = np.random.randint(0,10,(2,5))\n",
    "print(arr2)\n",
    "result = np.hstack((arr1,arr2))\n",
    "print(result)\n",
    "\n",
    "## 세로방향으로 결합\n",
    "## 열의개수가 같아야 해요! 행의 개수는 상관없어요!\n",
    "arr1 = np.random.randint(0,10,(2,3))\n",
    "arr2 = np.random.randint(0,10,(3,3))\n",
    "result = np.vstack((arr1,arr2))\n",
    "print(result)\n",
    "\n",
    "##################################################\n",
    "# ndarray 생성, 특징\n",
    "# reshape, resize => view개념(메모리를 효율적으로 사용하기 위해)\n",
    "# 여러개의 ndarray를 결합할 수 있어요!\n",
    "# 이제 indexing과 slicing에 대한 얘기만 하면 되요!!\n"
   ]
  },
  {
   "cell_type": "code",
   "execution_count": 78,
   "metadata": {
    "scrolled": false
   },
   "outputs": [
    {
     "name": "stdout",
     "output_type": "stream",
     "text": [
      "[[ 0  1  2  3]\n",
      " [ 4  5  6  7]\n",
      " [ 8  9 10 11]]\n"
     ]
    }
   ],
   "source": [
    "## NumPy array의 indexing과 slicing\n",
    "\n",
    "# arr = np.arange(10,20,1)\n",
    "# print(arr)\n",
    "\n",
    "# for i in arr:     # data만 추출해서 사용하는 for\n",
    "#     print(\"data : {}\".format(i))\n",
    "# for idx,data in enumerate(arr):\n",
    "#     print(\"index : {}, data : {}\".format(idx,data))\n",
    "    \n",
    "# arr = np.arange(0,5,1) \n",
    "# print(arr)\n",
    "# print(arr[2])   # indexing\n",
    "# print(arr[1:3]) # slicing [1 2]\n",
    "# print(arr[:3]) # slicing [0 1 2]\n",
    "# print(arr[2:]) # slicing [2 3 4]\n",
    "# print(arr[1::2]) # slicing [1 3]  :2 <- 2칸씩 뛰어요~\n",
    "# print(arr[-1:])  # 맨 마지막 요소만 슬라이싱 할꺼예요!\n",
    "\n",
    "arr = np.arange(0,12,1).reshape(3,4).copy() \n",
    "print(arr)\n",
    "# print(arr[1,2])     # indexing\n",
    "# print(arr[:,0:1])   # [0  4  8]\n",
    "# [5 6 9 10]\n",
    "# print(arr[1:3,1:3].ravel())"
   ]
  },
  {
   "cell_type": "code",
   "execution_count": 98,
   "metadata": {
    "scrolled": true
   },
   "outputs": [
    {
     "name": "stdout",
     "output_type": "stream",
     "text": [
      "[[ 0  1  2  3]\n",
      " [ 4  5  6  7]\n",
      " [ 8  9 10 11]]\n",
      "[[ 5  6]\n",
      " [ 9 10]]\n"
     ]
    }
   ],
   "source": [
    "## Boolean Indexing & Fancy Indexing\n",
    "## boolean indexing은 mask를 이용해서 배열의 각 요소의\n",
    "## 선택여부를 True,False로 지정해서 True요소만 선택하는 방식\n",
    "\n",
    "## 정수형 난수를 추출해보아요!\n",
    "## 0부터 9까지 정수형 난수를 1차원으로 10개 균등분포를 이용하여\n",
    "## 추출\n",
    "# np.random.seed(1)\n",
    "# arr = np.random.randint(0,10,(10,))\n",
    "# print(arr)\n",
    "## 1. 조건에 맞는 mask를 만들어요!\n",
    "## arr = [5 8 9 5 0 0 1 7 6 9]\n",
    "## mask = [False  True False False  True  True False False  True False]\n",
    "# print(arr % 2 == 0)\n",
    "# print(arr[arr % 2 == 0])\n",
    "## 여기에서 짝수만 추출할 꺼예요!\n",
    "## 로직을 이용해서 할 수 있지만....쫌 그래요!\n",
    "# result = list()\n",
    "# for i in arr:\n",
    "#     if i % 2 == 0:\n",
    "#         result.append(i)\n",
    "# result = np.array(result)\n",
    "# print(result)\n",
    "\n",
    "# Fancy Indexing\n",
    "# indexing을 할 때 배열을 이용해서 배열 요소를 찾는 방식\n",
    "\n",
    "arr = np.arange(0,12,1).reshape(3,4).copy()\n",
    "print(arr)\n",
    "\n",
    "# print(arr[2,2])  # 10\n",
    "# print(arr[1:2,2]) # [6]\n",
    "\n",
    "# print(arr[[0,2],2]) # [2 10]\n",
    "# print(arr[[0,2],1:]) # [[ 1  2  3]\n",
    "#                      #  [ 9 10 11]]\n",
    "# print(arr[:,[0,2]])  #    \n",
    "# print(arr[[1,2],[1,2]]) # ???? 조심\n",
    "\n",
    "# 방법1\n",
    "# print(arr[[1,2]][:,[1,2]])\n",
    "# 방법2\n",
    "print(arr[np.ix_([1,2],[1,2])])"
   ]
  },
  {
   "cell_type": "code",
   "execution_count": 106,
   "metadata": {},
   "outputs": [
    {
     "name": "stdout",
     "output_type": "stream",
     "text": [
      "[[1 2 3]\n",
      " [4 5 6]]\n",
      "[[11 12 13]\n",
      " [14 15 16]]\n",
      "[[2 4 6]\n",
      " [5 7 9]]\n"
     ]
    }
   ],
   "source": [
    "## ndarray의 연산\n",
    "## R의 vector연산과 유사\n",
    "np.random.seed(1)\n",
    "\n",
    "arr1 = np.arange(1,7,1).reshape(2,3).copy()\n",
    "arr2 = np.random.randint(1,10,(2,3))\n",
    "print(arr1)\n",
    "#print(arr2)\n",
    "#print(arr1 + arr2)  # python의 list에서 + 연산하면 리스트가 늘어나요\n",
    "                    # numpy ndarray에서 + 연산은 vector연산\n",
    "print(arr1 + 10)    # 원래는 연산이 안되야 정상!  \n",
    "                    # 이렇게 타입이 안맞는 경우\n",
    "                    # scalar값을 broadcating시켜요\n",
    "                    # 10 => 2행 3열짜리 10으로 모두 채워진 ndarray\n",
    "arr2 = np.array([1,2,3])  \n",
    "print(arr1 + arr2)  # 1차 배열 [1,2,3] =>  [[1 2 3]\n",
    "                    #                     [1 2 3]]\n",
    "    "
   ]
  },
  {
   "cell_type": "code",
   "execution_count": 138,
   "metadata": {},
   "outputs": [
    {
     "name": "stdout",
     "output_type": "stream",
     "text": [
      "[[6 9 6 1 1]\n",
      " [2 8 7 3 5]]\n"
     ]
    },
    {
     "data": {
      "text/plain": [
       "5"
      ]
     },
     "execution_count": 138,
     "metadata": {},
     "output_type": "execute_result"
    }
   ],
   "source": [
    "## 기본적인 집계(통계)함수\n",
    "\n",
    "# arr = np.arange(0,12,1).reshape(3,4).copy()\n",
    "# print(arr)\n",
    "# print(np.sum(arr))   # print(arr.sum())\n",
    "# print(np.cumsum(arr)) # 1차원으로 변환\n",
    "# print(np.mean(arr)) # 평균\n",
    "# print(np.max(arr)) # 최대\n",
    "# print(np.min(arr)) # 최소\n",
    "# print(np.std(arr)) # 표준편차\n",
    "# print(np.sqrt(arr)) # 제곱근을 구해요!\n",
    "# print(np.log10(arr)) # 자연로그, 상용로그 사용할 수 있어요!\n",
    "\n",
    "## 축 개념을 이해해 보아요!\n",
    "## 위에 있는 집계함수를 이용할 때 axis 개념을 사용해요!\n",
    "## 만약 axis를 명시하지 않으면 axis를 None으로 설정하고\n",
    "## 대상범위를 전체 ndarray로 지정\n",
    "\n",
    "# 1차원 ndarray\n",
    "# arr = np.arange(0,5,1)\n",
    "# print(arr)\n",
    "# print(arr.sum())  # axis를 명시하지 않은 경우\n",
    "# print(arr.sum(axis=0)) # 1차원에서 axis=0이면 열방향\n",
    "\n",
    "# 2차원 ndarray\n",
    "# arr = np.arange(0,12,1).reshape(3,4).copy()\n",
    "# print(arr)\n",
    "# print(arr.sum(axis=0)) # 2차원에서 axis=0이면 행방향\n",
    "# print(arr.sum(axis=1)) # 2차원에서 axis=1이면 열방향\n",
    "\n",
    "### 당연하게.. 일반 로직으로 프로그램하는것보다는\n",
    "### 집계함수를 이용해서 처리하는게 훨씬 효율적\n",
    "\n",
    "### 응용\n",
    "np.random.seed(1)\n",
    "arr = np.random.randint(1,10,(2,5))\n",
    "print(arr)\n",
    "\n",
    "#(arr > 5).sum()\n",
    "arr[arr > 5].size"
   ]
  },
  {
   "cell_type": "code",
   "execution_count": 142,
   "metadata": {},
   "outputs": [
    {
     "name": "stdout",
     "output_type": "stream",
     "text": [
      "[[ 0  1  2  3]\n",
      " [ 4  5  6  7]\n",
      " [ 8  9 10 11]]\n",
      "[[ 0  2  3]\n",
      " [ 4  6  7]\n",
      " [ 8 10 11]]\n"
     ]
    }
   ],
   "source": [
    "## delete() 함수는 axis을 기준으로 행과 열을 삭제\n",
    "## axis을 지정하지 않으면 1차배열로 변환한 후 해당 요소를 삭제\n",
    "## 원본은 유지하고 삭제된 복사본을 return\n",
    "\n",
    "arr = np.arange(0,12,1).reshape(3,4).copy()\n",
    "print(arr)\n",
    "\n",
    "# axis를 지정하지 않고 삭제 처리\n",
    "# result = np.delete(arr,1) # 1차배열로 변환한 후 해당 \n",
    "#                           # 인덱스를 삭제\n",
    "# print(result)    \n",
    "\n",
    "result = np.delete(arr,1, axis=1 )# 1차배열로 변환한 후 해당 \n",
    "                          # 인덱스를 삭제\n",
    "print(result)    \n"
   ]
  }
 ],
 "metadata": {
  "kernelspec": {
   "display_name": "[CPU_ENV]",
   "language": "python",
   "name": "cpu_env"
  },
  "language_info": {
   "codemirror_mode": {
    "name": "ipython",
    "version": 3
   },
   "file_extension": ".py",
   "mimetype": "text/x-python",
   "name": "python",
   "nbconvert_exporter": "python",
   "pygments_lexer": "ipython3",
   "version": "3.6.9"
  }
 },
 "nbformat": 4,
 "nbformat_minor": 2
}
